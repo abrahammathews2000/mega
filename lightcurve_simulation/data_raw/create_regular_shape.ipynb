{
 "cells": [
  {
   "cell_type": "code",
   "execution_count": 1,
   "metadata": {},
   "outputs": [],
   "source": [
    "# This is to create regular shapes\n",
    "import numpy as np\n",
    "import matplotlib.pyplot as plt\n",
    "import cv2\n",
    "import os\n"
   ]
  },
  {
   "cell_type": "code",
   "execution_count": 2,
   "metadata": {},
   "outputs": [],
   "source": [
    "class ShapeGen:\n",
    "    def __init__(self, name,Rmega_star,shape_pixel,index_shapefolder,coordx,coordy):\n",
    "        # self.rad = rad\n",
    "        # self.edgy = edgy\n",
    "        # self.noEdges = noEdges\n",
    "        self.name = name\n",
    "        self.Rmega_star = Rmega_star\n",
    "        self.shape_pixel = shape_pixel\n",
    "        self.index_shapefolder = index_shapefolder\n",
    "        self.coordx = coordx\n",
    "        self.coordy = coordy\n",
    "        self.coord_regular_shape = self.create_regular_shape()\n",
    "\n",
    "\n",
    "    def create_regular_shape(self):\n",
    "        # Regular shape generation\n",
    "        \n",
    "        x = self.coordx # np.array([0,1,-1])\n",
    "        y = self.coordy # np.array([1,0,0])\n",
    "        x = (x - np.mean(x)) * self.Rmega_star * 2\n",
    "        y = (y - np.mean(y)) * self.Rmega_star * 2\n",
    "        z = np.zeros(len(x))\n",
    "        # print(\" Inside create_bezier_shape\")\n",
    "        # print(\"x = \",x)\n",
    "        # print(\"y = \",y)\n",
    "        temp = np.stack((x, y, z), axis=1)\n",
    "        # print(\"temp = \",temp)\n",
    "        return np.stack((x, y, z), axis=1)\n",
    "\n",
    "    # def save_coord(self):\n",
    "    #     np.savetxt(\"./generatedData/shape_coord/coord0\" + str(self.name) + '.csv', self.coord_bezier, delimiter=',')\n",
    "    #     # print(\"shape_coord_\" + str(self.name) + \"_saved\")\n",
    "\n",
    "    def save_png_filled(self):\n",
    "        plt.clf()\n",
    "        plt.figure(figsize=(self.shape_pixel, self.shape_pixel))\n",
    "        plt.tick_params(left=False, right=False, labelleft=False, labelbottom=False, bottom=False)\n",
    "        x = self.coord_regular_shape[:,0]\n",
    "        y = self.coord_regular_shape[:,1]\n",
    "\n",
    "        # print(\"Inside save_png_filled\")\n",
    "        # print(\"x = \",x)\n",
    "        # print(\"y = \",y)\n",
    "        plt.plot(x, y, \"black\")\n",
    "        plt.fill(x, y,\"black\")\n",
    "        # plt.margins(x=0)\n",
    "        # plt.margins(y=0)\n",
    "        plt.axis('off')  # To remove frame box\n",
    "        plt.savefig('/home/abraham/Documents/ms_proj_shape_lc_gen/data_raw/shape/'+str(self.index_shapefolder)+'/shape0' + str(self.name) + '.png',bbox_inches=\"tight\",pad_inches=0)\n",
    "        print('Documents/ms_proj_shape_lc_gen/data_raw/shape/'+str(self.index_shapefolder)+'/shape0' + str(self.name) + '.png')\n",
    "        # plt.savefig(\"./generatedData/shape_filled/shape0\" + str(self.name) + \".png\",bbox_inches=\"tight\",pad_inches=0)\n",
    "        plt.show()\n",
    "        plt.close()\n",
    "        # Convert RGB to grayscale\n",
    "        image2cnvt = cv2.imread('/home/abraham/Documents/ms_proj_shape_lc_gen/data_raw/shape/'+str(self.index_shapefolder)+'/shape0' + str(self.name) + '.png')\n",
    "        gray_cnvtd = cv2.cvtColor(image2cnvt, cv2.COLOR_BGR2GRAY)\n",
    "        cv2.imwrite('/home/abraham/Documents/ms_proj_shape_lc_gen/data_raw/shape/'+str(self.index_shapefolder)+'/shape0' + str(self.name) + '.png', gray_cnvtd)\n",
    "        # print(\"shape_filled_\" + str(self.name) + \"_saved\")\n",
    "\n",
    "    # def save_png_unfilled(self):\n",
    "    #     plt.clf()\n",
    "    #     plt.figure(figsize=(self.shape_pixel, self.shape_pixel))\n",
    "    #     plt.tick_params(left=False, right=False, labelleft=False, labelbottom=False, bottom=False)\n",
    "    #     x = self.coord_bezier[:,0]\n",
    "    #     y = self.coord_bezier[:,1]\n",
    "    #     plt.plot(x, y, \"black\")\n",
    "    #     # plt.margins(x=0)\n",
    "    #     # plt.margins(y=0)\n",
    "    #     plt.axis('off')  # To remove frame box\n",
    "    #     plt.savefig(\"./generatedData/shape_unfilled/shape0\" + str(self.name) + \".png\",bbox_inches=\"tight\",pad_inches=0)\n",
    "    #     plt.close()\n",
    "    #     # Convert RGB to grayscale\n",
    "    #     image2cnvt = cv2.imread(\"./generatedData/shape_unfilled/shape0\" + str(self.name) + \".png\")\n",
    "    #     gray_cnvtd = cv2.cvtColor(image2cnvt, cv2.COLOR_BGR2GRAY)\n",
    "    #     cv2.imwrite(\"./generatedData/shape_unfilled/shape0\" + str(self.name) + \".png\", gray_cnvtd)\n",
    "    #     # print(\"shape_unfilled_\" + str(self.name) + \"_saved\")\n",
    "\n",
    "    def __del__(self):\n",
    "        print('Destructor called, shape deleted.')\n"
   ]
  },
  {
   "cell_type": "code",
   "execution_count": 3,
   "metadata": {},
   "outputs": [],
   "source": [
    "def coord_reg_poly(k,rotate=0):\n",
    "    x_values = []\n",
    "    y_values = []\n",
    "    #rotate = 0 # np.pi/2 + np.pi #  # (np.pi/4)\n",
    "    for i in range(k):\n",
    "        angle = 2 * np.pi / k \n",
    "        x = 1 * np.cos((i * angle) + rotate)\n",
    "        y = 1 * np.sin((i * angle) + rotate)\n",
    "        # x = 1 * np.cos((i * angle) + (np.pi/4))\n",
    "        # y = 1 * np.sin((i * angle) + (np.pi/4))\n",
    "        x_values.append(x)\n",
    "        y_values.append(y)\n",
    "    return(x_values,y_values)"
   ]
  },
  {
   "cell_type": "code",
   "execution_count": 4,
   "metadata": {},
   "outputs": [
    {
     "name": "stdout",
     "output_type": "stream",
     "text": [
      "/home/abraham/Documents/ms_proj_shape_lc_gen/data_raw/shape/6/  do not exist\n",
      "Documents/ms_proj_shape_lc_gen/data_raw/shape/6/shape0reg0.png\n"
     ]
    },
    {
     "data": {
      "text/plain": [
       "<Figure size 640x480 with 0 Axes>"
      ]
     },
     "metadata": {},
     "output_type": "display_data"
    },
    {
     "data": {
      "image/png": "[encoded data removed]",
      "text/plain": [
       "<Figure size 50x50 with 1 Axes>"
      ]
     },
     "metadata": {},
     "output_type": "display_data"
    },
    {
     "name": "stdout",
     "output_type": "stream",
     "text": [
      "Destructor called, shape deleted.\n",
      "Documents/ms_proj_shape_lc_gen/data_raw/shape/6/shape0reg1.png\n"
     ]
    },
    {
     "data": {
      "text/plain": [
       "<Figure size 640x480 with 0 Axes>"
      ]
     },
     "metadata": {},
     "output_type": "display_data"
    },
    {
     "data": {
      "image/png": "[encoded data removed]",
      "text/plain": [
       "<Figure size 50x50 with 1 Axes>"
      ]
     },
     "metadata": {},
     "output_type": "display_data"
    },
    {
     "name": "stdout",
     "output_type": "stream",
     "text": [
      "Destructor called, shape deleted.\n",
      "Documents/ms_proj_shape_lc_gen/data_raw/shape/6/shape0reg2.png\n"
     ]
    },
    {
     "data": {
      "text/plain": [
       "<Figure size 640x480 with 0 Axes>"
      ]
     },
     "metadata": {},
     "output_type": "display_data"
    },
    {
     "data": {
      "image/png": "[encoded data removed]",
      "text/plain": [
       "<Figure size 50x50 with 1 Axes>"
      ]
     },
     "metadata": {},
     "output_type": "display_data"
    },
    {
     "name": "stdout",
     "output_type": "stream",
     "text": [
      "Destructor called, shape deleted.\n",
      "Documents/ms_proj_shape_lc_gen/data_raw/shape/6/shape0reg3.png\n"
     ]
    },
    {
     "data": {
      "text/plain": [
       "<Figure size 640x480 with 0 Axes>"
      ]
     },
     "metadata": {},
     "output_type": "display_data"
    },
    {
     "data": {
      "image/png": "[encoded data removed]",
      "text/plain": [
       "<Figure size 50x50 with 1 Axes>"
      ]
     },
     "metadata": {},
     "output_type": "display_data"
    },
    {
     "name": "stdout",
     "output_type": "stream",
     "text": [
      "Destructor called, shape deleted.\n",
      "Documents/ms_proj_shape_lc_gen/data_raw/shape/6/shape0reg4.png\n"
     ]
    },
    {
     "data": {
      "text/plain": [
       "<Figure size 640x480 with 0 Axes>"
      ]
     },
     "metadata": {},
     "output_type": "display_data"
    },
    {
     "data": {
      "image/png": "[encoded data removed]",
      "text/plain": [
       "<Figure size 50x50 with 1 Axes>"
      ]
     },
     "metadata": {},
     "output_type": "display_data"
    },
    {
     "name": "stdout",
     "output_type": "stream",
     "text": [
      "Destructor called, shape deleted.\n",
      "Documents/ms_proj_shape_lc_gen/data_raw/shape/6/shape0reg5.png\n"
     ]
    },
    {
     "data": {
      "text/plain": [
       "<Figure size 640x480 with 0 Axes>"
      ]
     },
     "metadata": {},
     "output_type": "display_data"
    },
    {
     "data": {
      "image/png": "[encoded data removed]",
      "text/plain": [
       "<Figure size 50x50 with 1 Axes>"
      ]
     },
     "metadata": {},
     "output_type": "display_data"
    },
    {
     "name": "stdout",
     "output_type": "stream",
     "text": [
      "Destructor called, shape deleted.\n",
      "Documents/ms_proj_shape_lc_gen/data_raw/shape/6/shape0reg6.png\n"
     ]
    },
    {
     "data": {
      "text/plain": [
       "<Figure size 640x480 with 0 Axes>"
      ]
     },
     "metadata": {},
     "output_type": "display_data"
    },
    {
     "data": {
      "image/png": "[encoded data removed]",
      "text/plain": [
       "<Figure size 50x50 with 1 Axes>"
      ]
     },
     "metadata": {},
     "output_type": "display_data"
    },
    {
     "name": "stdout",
     "output_type": "stream",
     "text": [
      "Destructor called, shape deleted.\n",
      "Documents/ms_proj_shape_lc_gen/data_raw/shape/6/shape0reg7.png\n"
     ]
    },
    {
     "data": {
      "text/plain": [
       "<Figure size 640x480 with 0 Axes>"
      ]
     },
     "metadata": {},
     "output_type": "display_data"
    },
    {
     "data": {
      "image/png": "[encoded data removed]",
      "text/plain": [
       "<Figure size 50x50 with 1 Axes>"
      ]
     },
     "metadata": {},
     "output_type": "display_data"
    },
    {
     "name": "stdout",
     "output_type": "stream",
     "text": [
      "Destructor called, shape deleted.\n",
      "Documents/ms_proj_shape_lc_gen/data_raw/shape/6/shape0reg8.png\n"
     ]
    },
    {
     "data": {
      "text/plain": [
       "<Figure size 640x480 with 0 Axes>"
      ]
     },
     "metadata": {},
     "output_type": "display_data"
    },
    {
     "data": {
      "image/png": "[encoded data removed]",
      "text/plain": [
       "<Figure size 50x50 with 1 Axes>"
      ]
     },
     "metadata": {},
     "output_type": "display_data"
    },
    {
     "name": "stdout",
     "output_type": "stream",
     "text": [
      "Destructor called, shape deleted.\n",
      "Documents/ms_proj_shape_lc_gen/data_raw/shape/6/shape0reg9.png\n"
     ]
    },
    {
     "data": {
      "text/plain": [
       "<Figure size 640x480 with 0 Axes>"
      ]
     },
     "metadata": {},
     "output_type": "display_data"
    },
    {
     "data": {
      "image/png": "[encoded data removed]",
      "text/plain": [
       "<Figure size 50x50 with 1 Axes>"
      ]
     },
     "metadata": {},
     "output_type": "display_data"
    },
    {
     "name": "stdout",
     "output_type": "stream",
     "text": [
      "Destructor called, shape deleted.\n",
      "Documents/ms_proj_shape_lc_gen/data_raw/shape/6/shape0reg10.png\n"
     ]
    },
    {
     "data": {
      "text/plain": [
       "<Figure size 640x480 with 0 Axes>"
      ]
     },
     "metadata": {},
     "output_type": "display_data"
    },
    {
     "data": {
      "image/png": "[encoded data removed]",
      "text/plain": [
       "<Figure size 50x50 with 1 Axes>"
      ]
     },
     "metadata": {},
     "output_type": "display_data"
    },
    {
     "name": "stdout",
     "output_type": "stream",
     "text": [
      "Destructor called, shape deleted.\n",
      "Documents/ms_proj_shape_lc_gen/data_raw/shape/6/shape0reg11.png\n"
     ]
    },
    {
     "data": {
      "text/plain": [
       "<Figure size 640x480 with 0 Axes>"
      ]
     },
     "metadata": {},
     "output_type": "display_data"
    },
    {
     "data": {
      "image/png": "[encoded data removed]",
      "text/plain": [
       "<Figure size 50x50 with 1 Axes>"
      ]
     },
     "metadata": {},
     "output_type": "display_data"
    },
    {
     "name": "stdout",
     "output_type": "stream",
     "text": [
      "Destructor called, shape deleted.\n",
      "Documents/ms_proj_shape_lc_gen/data_raw/shape/6/shape0reg12.png\n"
     ]
    },
    {
     "data": {
      "text/plain": [
       "<Figure size 640x480 with 0 Axes>"
      ]
     },
     "metadata": {},
     "output_type": "display_data"
    },
    {
     "data": {
      "image/png": "[encoded data removed]",
      "text/plain": [
       "<Figure size 50x50 with 1 Axes>"
      ]
     },
     "metadata": {},
     "output_type": "display_data"
    },
    {
     "name": "stdout",
     "output_type": "stream",
     "text": [
      "Destructor called, shape deleted.\n",
      "Documents/ms_proj_shape_lc_gen/data_raw/shape/6/shape0reg13.png\n"
     ]
    },
    {
     "data": {
      "text/plain": [
       "<Figure size 640x480 with 0 Axes>"
      ]
     },
     "metadata": {},
     "output_type": "display_data"
    },
    {
     "data": {
      "image/png": "[encoded data removed]",
      "text/plain": [
       "<Figure size 50x50 with 1 Axes>"
      ]
     },
     "metadata": {},
     "output_type": "display_data"
    },
    {
     "name": "stdout",
     "output_type": "stream",
     "text": [
      "Destructor called, shape deleted.\n",
      "Documents/ms_proj_shape_lc_gen/data_raw/shape/6/shape0reg14.png\n"
     ]
    },
    {
     "data": {
      "text/plain": [
       "<Figure size 640x480 with 0 Axes>"
      ]
     },
     "metadata": {},
     "output_type": "display_data"
    },
    {
     "data": {
      "image/png": "[encoded data removed]",
      "text/plain": [
       "<Figure size 50x50 with 1 Axes>"
      ]
     },
     "metadata": {},
     "output_type": "display_data"
    },
    {
     "name": "stdout",
     "output_type": "stream",
     "text": [
      "Destructor called, shape deleted.\n",
      "Documents/ms_proj_shape_lc_gen/data_raw/shape/6/shape0reg15.png\n"
     ]
    },
    {
     "data": {
      "text/plain": [
       "<Figure size 640x480 with 0 Axes>"
      ]
     },
     "metadata": {},
     "output_type": "display_data"
    },
    {
     "data": {
      "image/png": "[encoded data removed]",
      "text/plain": [
       "<Figure size 50x50 with 1 Axes>"
      ]
     },
     "metadata": {},
     "output_type": "display_data"
    },
    {
     "name": "stdout",
     "output_type": "stream",
     "text": [
      "Destructor called, shape deleted.\n",
      "Documents/ms_proj_shape_lc_gen/data_raw/shape/6/shape0reg16.png\n"
     ]
    },
    {
     "data": {
      "text/plain": [
       "<Figure size 640x480 with 0 Axes>"
      ]
     },
     "metadata": {},
     "output_type": "display_data"
    },
    {
     "data": {
      "image/png": "[encoded data removed]",
      "text/plain": [
       "<Figure size 50x50 with 1 Axes>"
      ]
     },
     "metadata": {},
     "output_type": "display_data"
    },
    {
     "name": "stdout",
     "output_type": "stream",
     "text": [
      "Destructor called, shape deleted.\n",
      "Documents/ms_proj_shape_lc_gen/data_raw/shape/6/shape0reg17.png\n"
     ]
    },
    {
     "data": {
      "text/plain": [
       "<Figure size 640x480 with 0 Axes>"
      ]
     },
     "metadata": {},
     "output_type": "display_data"
    },
    {
     "data": {
      "image/png": "[encoded data removed]",
      "text/plain": [
       "<Figure size 50x50 with 1 Axes>"
      ]
     },
     "metadata": {},
     "output_type": "display_data"
    },
    {
     "name": "stdout",
     "output_type": "stream",
     "text": [
      "Destructor called, shape deleted.\n",
      "Documents/ms_proj_shape_lc_gen/data_raw/shape/6/shape0reg18.png\n"
     ]
    },
    {
     "data": {
      "text/plain": [
       "<Figure size 640x480 with 0 Axes>"
      ]
     },
     "metadata": {},
     "output_type": "display_data"
    },
    {
     "data": {
      "image/png": "[encoded data removed]",
      "text/plain": [
       "<Figure size 50x50 with 1 Axes>"
      ]
     },
     "metadata": {},
     "output_type": "display_data"
    },
    {
     "name": "stdout",
     "output_type": "stream",
     "text": [
      "Destructor called, shape deleted.\n",
      "Documents/ms_proj_shape_lc_gen/data_raw/shape/6/shape0reg19.png\n"
     ]
    },
    {
     "data": {
      "text/plain": [
       "<Figure size 640x480 with 0 Axes>"
      ]
     },
     "metadata": {},
     "output_type": "display_data"
    },
    {
     "data": {
      "image/png": "[encoded data removed]",
      "text/plain": [
       "<Figure size 50x50 with 1 Axes>"
      ]
     },
     "metadata": {},
     "output_type": "display_data"
    },
    {
     "name": "stdout",
     "output_type": "stream",
     "text": [
      "Destructor called, shape deleted.\n",
      "Documents/ms_proj_shape_lc_gen/data_raw/shape/6/shape0reg20.png\n"
     ]
    },
    {
     "data": {
      "text/plain": [
       "<Figure size 640x480 with 0 Axes>"
      ]
     },
     "metadata": {},
     "output_type": "display_data"
    },
    {
     "data": {
      "image/png": "[encoded data removed]",
      "text/plain": [
       "<Figure size 50x50 with 1 Axes>"
      ]
     },
     "metadata": {},
     "output_type": "display_data"
    },
    {
     "name": "stdout",
     "output_type": "stream",
     "text": [
      "Destructor called, shape deleted.\n",
      "Documents/ms_proj_shape_lc_gen/data_raw/shape/6/shape0reg21.png\n"
     ]
    },
    {
     "data": {
      "text/plain": [
       "<Figure size 640x480 with 0 Axes>"
      ]
     },
     "metadata": {},
     "output_type": "display_data"
    },
    {
     "data": {
      "image/png": "[encoded data removed]",
      "text/plain": [
       "<Figure size 50x50 with 1 Axes>"
      ]
     },
     "metadata": {},
     "output_type": "display_data"
    },
    {
     "name": "stdout",
     "output_type": "stream",
     "text": [
      "Destructor called, shape deleted.\n",
      "Documents/ms_proj_shape_lc_gen/data_raw/shape/6/shape0reg22.png\n"
     ]
    },
    {
     "data": {
      "text/plain": [
       "<Figure size 640x480 with 0 Axes>"
      ]
     },
     "metadata": {},
     "output_type": "display_data"
    },
    {
     "data": {
      "image/png": "[encoded data removed]",
      "text/plain": [
       "<Figure size 50x50 with 1 Axes>"
      ]
     },
     "metadata": {},
     "output_type": "display_data"
    },
    {
     "name": "stdout",
     "output_type": "stream",
     "text": [
      "Destructor called, shape deleted.\n",
      "Documents/ms_proj_shape_lc_gen/data_raw/shape/6/shape0reg23.png\n"
     ]
    },
    {
     "data": {
      "text/plain": [
       "<Figure size 640x480 with 0 Axes>"
      ]
     },
     "metadata": {},
     "output_type": "display_data"
    },
    {
     "data": {
      "image/png": "[encoded data removed]",
      "text/plain": [
       "<Figure size 50x50 with 1 Axes>"
      ]
     },
     "metadata": {},
     "output_type": "display_data"
    },
    {
     "name": "stdout",
     "output_type": "stream",
     "text": [
      "Destructor called, shape deleted.\n",
      "Documents/ms_proj_shape_lc_gen/data_raw/shape/6/shape0reg24.png\n"
     ]
    },
    {
     "data": {
      "text/plain": [
       "<Figure size 640x480 with 0 Axes>"
      ]
     },
     "metadata": {},
     "output_type": "display_data"
    },
    {
     "data": {
      "image/png": "[encoded data removed]",
      "text/plain": [
       "<Figure size 50x50 with 1 Axes>"
      ]
     },
     "metadata": {},
     "output_type": "display_data"
    },
    {
     "name": "stdout",
     "output_type": "stream",
     "text": [
      "Destructor called, shape deleted.\n",
      "Documents/ms_proj_shape_lc_gen/data_raw/shape/6/shape0reg25.png\n"
     ]
    },
    {
     "data": {
      "text/plain": [
       "<Figure size 640x480 with 0 Axes>"
      ]
     },
     "metadata": {},
     "output_type": "display_data"
    },
    {
     "data": {
      "image/png": "[encoded data removed]",
      "text/plain": [
       "<Figure size 50x50 with 1 Axes>"
      ]
     },
     "metadata": {},
     "output_type": "display_data"
    },
    {
     "name": "stdout",
     "output_type": "stream",
     "text": [
      "Destructor called, shape deleted.\n",
      "Documents/ms_proj_shape_lc_gen/data_raw/shape/6/shape0reg26.png\n"
     ]
    },
    {
     "data": {
      "text/plain": [
       "<Figure size 640x480 with 0 Axes>"
      ]
     },
     "metadata": {},
     "output_type": "display_data"
    },
    {
     "data": {
      "image/png": "[encoded data removed]",
      "text/plain": [
       "<Figure size 50x50 with 1 Axes>"
      ]
     },
     "metadata": {},
     "output_type": "display_data"
    },
    {
     "name": "stdout",
     "output_type": "stream",
     "text": [
      "Destructor called, shape deleted.\n",
      "Documents/ms_proj_shape_lc_gen/data_raw/shape/6/shape0reg27.png\n"
     ]
    },
    {
     "data": {
      "text/plain": [
       "<Figure size 640x480 with 0 Axes>"
      ]
     },
     "metadata": {},
     "output_type": "display_data"
    },
    {
     "data": {
      "image/png": "[encoded data removed]",
      "text/plain": [
       "<Figure size 50x50 with 1 Axes>"
      ]
     },
     "metadata": {},
     "output_type": "display_data"
    },
    {
     "name": "stdout",
     "output_type": "stream",
     "text": [
      "Destructor called, shape deleted.\n"
     ]
    }
   ],
   "source": [
    "# Change it for every run\n",
    "index_shapefolder = 6\n",
    "# \n",
    "\n",
    "if not os.path.exists('/home/abraham/Documents/ms_proj_shape_lc_gen/data_raw/shape/'):\n",
    "    os.mkdir('/home/abraham/Documents/ms_proj_shape_lc_gen/data_raw/shape/')\n",
    "# if not os.path.exists('./generatedData/shape_coord/'):\n",
    "#     os.mkdir('./generatedData/shape_coord/')\n",
    "if not os.path.exists('/home/abraham/Documents/ms_proj_shape_lc_gen/data_raw/shape/'+str(index_shapefolder)+'/'):\n",
    "    print('/home/abraham/Documents/ms_proj_shape_lc_gen/data_raw/shape/'+str(index_shapefolder)+'/',' do not exist')\n",
    "    os.mkdir('/home/abraham/Documents/ms_proj_shape_lc_gen/data_raw/shape/'+str(index_shapefolder)+'/')\n",
    "\n",
    "\n",
    "rotate_array = np.array([0,np.pi/4,np.pi/2,np.pi])\n",
    "sides_array = np.array([3,4,5,6,7,8,9])\n",
    "\n",
    "i = 0  # Starting number to save\n",
    "for sides in sides_array:\n",
    "    for rotate in rotate_array:\n",
    "        coordx, coordy = coord_reg_poly(k= sides,rotate= rotate)\n",
    "        # print('coordx = ',coordx)\n",
    "        # print('coordy = ',coordy)\n",
    "        t = ShapeGen(name='reg'+str(i),Rmega_star=0.25,shape_pixel=0.50,index_shapefolder=index_shapefolder,coordx = coordx,coordy = coordy)\n",
    "        t.save_png_filled()\n",
    "        del t\n",
    "        i = i + 1\n",
    "\n",
    "# theta = np.linspace(0, 2 * np.pi, 360)\n",
    "# coordx = 1 * np.cos(theta)\n",
    "# coordy = 1 * np.sin(theta)\n",
    "\n",
    "\n",
    "\n"
   ]
  },
  {
   "cell_type": "code",
   "execution_count": 29,
   "metadata": {},
   "outputs": [],
   "source": [
    "# Square\n",
    "# coordx = np.array([-1,0,1,0])\n",
    "# coordy = np.array([0,1,0,-1])\n",
    "\n",
    "# Circle\n",
    "# theta = np.linspace(0, 2 * np.pi, 360)\n",
    "# coordx = 1 * np.cos(theta)\n",
    "# coordy = 1 * np.sin(theta)"
   ]
  },
  {
   "cell_type": "code",
   "execution_count": null,
   "metadata": {},
   "outputs": [],
   "source": []
  }
 ],
 "metadata": {
  "kernelspec": {
   "display_name": "tf",
   "language": "python",
   "name": "python3"
  },
  "language_info": {
   "codemirror_mode": {
    "name": "ipython",
    "version": 3
   },
   "file_extension": ".py",
   "mimetype": "text/x-python",
   "name": "python",
   "nbconvert_exporter": "python",
   "pygments_lexer": "ipython3",
   "version": "3.10.12"
  },
  "orig_nbformat": 4
 },
 "nbformat": 4,
 "nbformat_minor": 2
}
