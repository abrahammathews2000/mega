{
 "cells": [
  {
   "cell_type": "markdown",
   "metadata": {},
   "source": [
    "**To plot circles with different size within 38 x 38 pixel**\n",
    "Feb 21, 2024"
   ]
  },
  {
   "cell_type": "code",
   "execution_count": null,
   "metadata": {},
   "outputs": [],
   "source": [
    "# code to check whether code is already running or not\n",
    "a = 10\n",
    "a"
   ]
  },
  {
   "cell_type": "code",
   "execution_count": null,
   "metadata": {},
   "outputs": [],
   "source": [
    "import matplotlib.pyplot as plt\n",
    "import numpy as np\n",
    "\n",
    "# set figure size in inches\n",
    "fig, ax = plt.subplots(figsize=(1, 1))\n",
    "\n",
    "# set center to be origin\n",
    "center = (0, 0) \n",
    "\n",
    "# set radius as 1\n",
    "radius = 1\n",
    "\n",
    "# create circle object with black color\n",
    "circle = plt.Circle(xy = center, radius = radius, color='black')\n",
    "\n",
    "# add circle object to plot\n",
    "ax.add_patch(circle)\n",
    "\n",
    "# set aspect ratio of the plot to be equal\n",
    "ax.set_aspect(\"equal\")\n",
    "\n",
    "# set limits slightly higher than radius and offset by center coordinates\n",
    "# radius_factor - Factor of radius more\n",
    "radius_factor = 3\n",
    "plt.xlim([-radius - (radius*radius_factor) + center[0], radius + (radius*radius_factor) + center[0]])\n",
    "plt.ylim([-radius - (radius*radius_factor) + center[1], radius + (radius*radius_factor) + center[1]])\n",
    "\n",
    "# hide axis\n",
    "ax.axis('off')\n",
    "\n",
    "# set tight layout\n",
    "plt.tight_layout()\n",
    "\n",
    "# save the figure as a png image with dpi set to 38 to ensure a 38x38 pixel image\n",
    "plt.savefig(f\"/scratch/abraham/Documents/mega_git/mega/data/random/raw/shape/21Feb2024_circles_38_38_px/black_circle_r{radius_factor}.png\", \n",
    "            dpi=38)\n"
   ]
  }
 ],
 "metadata": {
  "kernelspec": {
   "display_name": "py310",
   "language": "python",
   "name": "python3"
  },
  "language_info": {
   "codemirror_mode": {
    "name": "ipython",
    "version": 3
   },
   "file_extension": ".py",
   "mimetype": "text/x-python",
   "name": "python",
   "nbconvert_exporter": "python",
   "pygments_lexer": "ipython3",
   "version": "3.10.12"
  }
 },
 "nbformat": 4,
 "nbformat_minor": 2
}
