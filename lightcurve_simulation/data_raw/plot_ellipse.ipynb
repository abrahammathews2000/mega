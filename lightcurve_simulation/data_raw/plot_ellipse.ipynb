{
 "cells": [
  {
   "cell_type": "code",
   "execution_count": 1,
   "metadata": {},
   "outputs": [],
   "source": [
    "# This is to create ellipse shapes\n",
    "import numpy as np\n",
    "import matplotlib.pyplot as plt\n",
    "import cv2\n",
    "# import os\n",
    "from math import pi, cos, sin\n"
   ]
  },
  {
   "cell_type": "code",
   "execution_count": 27,
   "metadata": {},
   "outputs": [
    {
     "data": {
      "image/png": "[encoded data removed]",
      "text/plain": [
       "<Figure size 640x480 with 1 Axes>"
      ]
     },
     "metadata": {},
     "output_type": "display_data"
    }
   ],
   "source": [
    "u=0.       #x-position of the center\n",
    "v=0.     #y-position of the center\n",
    "a=1.0       #radius on the x-axis \n",
    "b=0.9      #radius on the y-axis\n",
    "\n",
    "\n",
    "t = np.linspace(0, 2*pi, 100)\n",
    "Ell = np.array([a*np.cos(t) , b*np.sin(t)])  #u,v removed to keep the same center location\n",
    "\n",
    "plt.plot( u+Ell[0,:] , v+Ell[1,:] , color ='black' )     #initial ellipse\n",
    "plt.fill(u+Ell[0,:], v+Ell[1,:],\"black\")\n",
    "plt.axis('off')  # To remove frame box\n",
    "plt.axis('equal')\n",
    "plt.show()"
   ]
  },
  {
   "cell_type": "code",
   "execution_count": 25,
   "metadata": {},
   "outputs": [],
   "source": [
    "def save_png_filled(coord,save_filename):\n",
    "    plt.clf()\n",
    "    plt.figure(figsize=(2, 2))\n",
    "    plt.tick_params(left=False, right=False, labelleft=False, labelbottom=False, bottom=False)\n",
    "    x = coord[0,:]\n",
    "    y = coord[1,:]\n",
    "\n",
    "    plt.plot(x, y, \"black\")\n",
    "    plt.fill(x, y,\"black\")\n",
    "    plt.axis('off')  # To remove frame box\n",
    "    plt.axis('equal')\n",
    "    plt.xlim(-1.2,1.2)\n",
    "    plt.ylim(-1.2,1.2)\n",
    "    plt.savefig('/scratch/abraham/Documents/mega_git/mega/data/train/raw/shape/shape_oblate/'+save_filename+'.png',pad_inches=0) # bbox_inches=\"tight\"\n",
    "    print('Saved /scratch/abraham/Documents/mega_git/mega/data/train/raw/shape/shape_oblate/'+save_filename+'.png')\n",
    "    plt.show()\n",
    "    plt.close()\n",
    "    # Convert RGB to grayscale\n",
    "    image2cnvt = cv2.imread('/scratch/abraham/Documents/mega_git/mega/data/train/raw/shape/shape_oblate/'+save_filename+'.png')\n",
    "    gray_cnvtd = cv2.cvtColor(image2cnvt, cv2.COLOR_BGR2GRAY)\n",
    "    cv2.imwrite('/scratch/abraham/Documents/mega_git/mega/data/train/raw/shape/shape_oblate/'+save_filename+'.png', gray_cnvtd)\n",
    "    "
   ]
  },
  {
   "cell_type": "code",
   "execution_count": 28,
   "metadata": {},
   "outputs": [
    {
     "name": "stdout",
     "output_type": "stream",
     "text": [
      "Saved /scratch/abraham/Documents/mega_git/mega/data/train/raw/shape/shape_oblate/ellipse1.png\n"
     ]
    },
    {
     "data": {
      "text/plain": [
       "<Figure size 640x480 with 0 Axes>"
      ]
     },
     "metadata": {},
     "output_type": "display_data"
    },
    {
     "data": {
      "image/png": "[encoded data removed]",
      "text/plain": [
       "<Figure size 200x200 with 1 Axes>"
      ]
     },
     "metadata": {},
     "output_type": "display_data"
    }
   ],
   "source": [
    "save_png_filled(Ell,'ellipse1')"
   ]
  },
  {
   "cell_type": "code",
   "execution_count": null,
   "metadata": {},
   "outputs": [],
   "source": [
    "# For rotated ellipse\n",
    "\n",
    "t_rot=pi/4 #rotation angle\n",
    "\n",
    "R_rot = np.array([[cos(t_rot) , -sin(t_rot)],[sin(t_rot) , cos(t_rot)]])  #2-D rotation matrix\n",
    "Ell_rot = np.zeros((2,Ell.shape[1]))\n",
    "for i in range(Ell.shape[1]):\n",
    "    Ell_rot[:,i] = np.dot(R_rot,Ell[:,i])\n",
    "plt.plot( u+Ell_rot[0,:] , v+Ell_rot[1,:],color='black' )    #rotated ellipse\n",
    "plt.fill(u+Ell_rot[0,:], v+Ell_rot[1,:],\"black\")\n",
    "plt.axis('off')  # To remove frame box\n",
    "plt.show()\n"
   ]
  },
  {
   "cell_type": "code",
   "execution_count": null,
   "metadata": {},
   "outputs": [],
   "source": []
  },
  {
   "cell_type": "code",
   "execution_count": null,
   "metadata": {},
   "outputs": [],
   "source": []
  }
 ],
 "metadata": {
  "kernelspec": {
   "display_name": "py310",
   "language": "python",
   "name": "python3"
  },
  "language_info": {
   "codemirror_mode": {
    "name": "ipython",
    "version": 3
   },
   "file_extension": ".py",
   "mimetype": "text/x-python",
   "name": "python",
   "nbconvert_exporter": "python",
   "pygments_lexer": "ipython3",
   "version": "3.10.12"
  }
 },
 "nbformat": 4,
 "nbformat_minor": 2
}
