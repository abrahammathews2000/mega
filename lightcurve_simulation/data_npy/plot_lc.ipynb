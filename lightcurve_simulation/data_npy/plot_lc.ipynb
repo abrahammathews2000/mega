{
 "cells": [
  {
   "cell_type": "markdown",
   "metadata": {},
   "source": [
    "- To plot the light curves of artificial shapes for different Limb Darkening Coefficients\n",
    "- Plot 3 shapes and their lightcurves single LDCs (overlap)\n",
    "- To plot the difference between two lightcurves"
   ]
  },
  {
   "cell_type": "code",
   "execution_count": null,
   "metadata": {},
   "outputs": [],
   "source": [
    "# check whether this ipynb is already running\n",
    "a = 10\n",
    "print(a)"
   ]
  },
  {
   "cell_type": "markdown",
   "metadata": {},
   "source": [
    "Code to plot the light curves of artificial shapes for different Limb Darkening Coefficients"
   ]
  },
  {
   "cell_type": "code",
   "execution_count": null,
   "metadata": {},
   "outputs": [],
   "source": [
    "import matplotlib.pyplot as plt\n",
    "import numpy as np"
   ]
  },
  {
   "cell_type": "code",
   "execution_count": null,
   "metadata": {},
   "outputs": [],
   "source": [
    "# train_lc_dir =  '../../data/train/npy/lc/lc_1_shape_5.npy'\n",
    "# train_lc = np.load(train_lc_dir)\n",
    "# train_lc[0].shape[0]\n",
    "# train_lc.shape[0]"
   ]
  },
  {
   "cell_type": "code",
   "execution_count": null,
   "metadata": {},
   "outputs": [],
   "source": [
    "train_lc_dir =  '../../data/train/npy/lc/lc_1_shape_5.npy'\n",
    "train_lc = np.load(train_lc_dir)\n",
    "same_shape_diff_LDC_lc = np.zeros((9,train_lc[0].shape[0]))\n",
    "del train_lc\n",
    "\n",
    "for i in np.arange(1,10,1):\n",
    "    train_lc_dir =  f'../../data/train/npy/lc/lc_{i}_shape_5.npy'\n",
    "    train_lc = np.load(train_lc_dir)\n",
    "    same_shape_diff_LDC_lc[i-1] = train_lc[0]\n",
    "    del train_lc\n"
   ]
  },
  {
   "cell_type": "code",
   "execution_count": null,
   "metadata": {},
   "outputs": [],
   "source": [
    "# 2. Normalize the lightcurves\n",
    "## - Train Set\n",
    "train_lc = np.copy(same_shape_diff_LDC_lc)\n",
    "del same_shape_diff_LDC_lc\n",
    "train_lc_scaled = np.zeros(train_lc.shape)\n",
    "for i in np.arange(len(train_lc_scaled)):\n",
    "    train_lc_scaled[i] = (train_lc[i] - np.amin(train_lc[i]))/(np.amax(train_lc[i]) - np.amin(train_lc[i]))\n"
   ]
  },
  {
   "cell_type": "code",
   "execution_count": null,
   "metadata": {},
   "outputs": [],
   "source": [
    "# Add flat line towards left and right of dip\n",
    "# 10 data points on each side\n",
    "# 3. Extend the lightcurves\n",
    "## - Train Set\n",
    "train_lc_scaled_append = np.ones((train_lc.shape[0],120))\n",
    "print('train_lc_scaled_append.shape = ',train_lc_scaled_append.shape)\n",
    "print(\"len(train_lc_scaled_append[0,10:110]) = \",len(train_lc_scaled_append[0,10:110]))\n",
    "\n",
    "for i in np.arange(len(train_lc_scaled)):\n",
    "    train_lc_scaled_append[i,10:110] = train_lc_scaled[i]"
   ]
  },
  {
   "cell_type": "code",
   "execution_count": null,
   "metadata": {},
   "outputs": [],
   "source": [
    "plt.rcParams['figure.dpi'] = 400\n",
    "\n",
    "# Verification\n",
    "# Plot - Train LCs\n",
    "fig, ax = plt.subplots()\n",
    "ph_simul = np.linspace(-1,1,len(train_lc_scaled_append[0]))\n",
    "for i in np.arange(0,9,1):\n",
    "    ax.plot(ph_simul, train_lc_scaled_append[i],linewidth='1.5')\n",
    "plt.grid('on')\n",
    "plt.show()"
   ]
  },
  {
   "cell_type": "code",
   "execution_count": null,
   "metadata": {},
   "outputs": [],
   "source": [
    "ph_simul = np.linspace(-1,1,len(train_lc_scaled_append[0]))\n",
    "plt.plot(ph_simul, train_lc_scaled_append[8],linewidth='1.5')\n",
    "plt.plot(ph_simul, train_lc_scaled_append[7],linewidth='1.5')\n",
    "\n",
    "plt.grid('on')\n",
    "plt.show()\n"
   ]
  },
  {
   "cell_type": "markdown",
   "metadata": {},
   "source": [
    "Plot 3 shapes and their lightcurves single LDCs (overlap)"
   ]
  },
  {
   "cell_type": "code",
   "execution_count": null,
   "metadata": {},
   "outputs": [],
   "source": [
    "import matplotlib.pyplot as plt\n",
    "import numpy as np"
   ]
  },
  {
   "cell_type": "code",
   "execution_count": null,
   "metadata": {},
   "outputs": [],
   "source": [
    "train_lc_dir =  '../../data/train/npy/lc/lc_1_shape_5.npy'\n",
    "train_lc = np.load(train_lc_dir)\n",
    "\n",
    "# 2. Normalize the lightcurves\n",
    "train_lc_scaled = np.zeros(train_lc.shape)\n",
    "for i in np.arange(len(train_lc_scaled)):\n",
    "    train_lc_scaled[i] = (train_lc[i] - np.amin(train_lc[i]))/(np.amax(train_lc[i]) - np.amin(train_lc[i]))\n",
    "\n",
    "# Add flat line towards left and right of dip\n",
    "# 10 data points on each side\n",
    "# 3. Extend the lightcurves\n",
    "## - Train Set\n",
    "train_lc_scaled_append = np.ones((train_lc.shape[0],120))\n",
    "print('train_lc_scaled_append.shape = ',train_lc_scaled_append.shape)\n",
    "print(\"len(train_lc_scaled_append[0,10:110]) = \",len(train_lc_scaled_append[0,10:110]))\n",
    "\n",
    "for i in np.arange(len(train_lc_scaled)):\n",
    "    train_lc_scaled_append[i,10:110] = train_lc_scaled[i]"
   ]
  },
  {
   "cell_type": "code",
   "execution_count": null,
   "metadata": {},
   "outputs": [],
   "source": [
    "train_shape_dir = '../../data/train/npy/shape/shape_5.npy'\n",
    "train_shape = np.load(train_shape_dir)\n",
    "\n",
    "# 2. Normalize the image, convert to opacity map\n",
    "## Train Set\n",
    "train_shape = train_shape/np.amax(train_shape)\n",
    "train_shape_where_0 = np.where(train_shape == 0)\n",
    "train_shape_where_1 = np.where(train_shape == 1)\n",
    "train_shape[train_shape_where_0] = 1  # 1 represent the shape (1 opacity)\n",
    "train_shape[train_shape_where_1] = 0  # 0 represent background (0 opacity)"
   ]
  },
  {
   "cell_type": "code",
   "execution_count": null,
   "metadata": {},
   "outputs": [],
   "source": [
    "k = np.random.randint(0, len(train_lc_scaled_append)-1, 3)\n",
    "ph_simul = np.linspace(-1,1,len(train_lc_scaled_append[0]))\n",
    "plt.rcParams['figure.dpi'] = 400\n",
    "\n",
    "# Create Figure 1\n",
    "plt.subplot(2, 3, 1)\n",
    "# plt.text(0.5, 0.5, 'Figure 1', ha='center', va='center', fontsize=12, color='black')\n",
    "plt.imshow(train_shape[k[0]],cmap='inferno')\n",
    "plt.title('Red')\n",
    "plt.axis('off')\n",
    "\n",
    "# Create Figure 2\n",
    "plt.subplot(2, 3, 2)\n",
    "# plt.text(0.5, 0.5, 'Figure 2', ha='center', va='center', fontsize=12, color='black')\n",
    "plt.imshow(train_shape[k[1]],cmap='inferno')\n",
    "plt.title('Blue')\n",
    "plt.axis('off')\n",
    "\n",
    "# Create Figure 3\n",
    "plt.subplot(2, 3, 3)\n",
    "# plt.text(0.5, 0.5, 'Figure 3', ha='center', va='center', fontsize=12, color='black')\n",
    "plt.imshow(train_shape[k[2]],cmap='inferno')\n",
    "plt.title('Green')\n",
    "plt.axis('off')\n",
    "\n",
    "# Create a single figure in the second row\n",
    "plt.subplot(2, 1, 2)\n",
    "# plt.text(0.5, 0.5, 'Single Figure', ha='center', va='center', fontsize=12, color='black')\n",
    "plt.plot(ph_simul,train_lc_scaled_append[k[0]],color='tab:red')\n",
    "plt.plot(ph_simul,train_lc_scaled_append[k[1]],color='tab:blue')\n",
    "plt.plot(ph_simul,train_lc_scaled_append[k[2]],color='tab:green')\n",
    "plt.grid('on')\n",
    "plt.title('Transit Light Curves')\n",
    "plt.ylabel('Flux')\n",
    "plt.xlabel('Phase (arbitary units)')\n",
    "# plt.axis('off')\n",
    "\n",
    "# Adjust layout to make sure there is no overlapping\n",
    "plt.tight_layout()\n",
    "\n",
    "# Show the plot\n",
    "plt.show()"
   ]
  },
  {
   "cell_type": "markdown",
   "metadata": {},
   "source": [
    "**To plot the difference between two lightcurves**\n"
   ]
  },
  {
   "cell_type": "markdown",
   "metadata": {},
   "source": [
    "Load BATMAN lightcurve"
   ]
  },
  {
   "cell_type": "code",
   "execution_count": null,
   "metadata": {},
   "outputs": [],
   "source": [
    "import batman\n",
    "import numpy as np\n",
    "import matplotlib.pyplot as plt\n",
    "plt.rcParams['figure.dpi'] = 400\n"
   ]
  },
  {
   "cell_type": "code",
   "execution_count": null,
   "metadata": {},
   "outputs": [],
   "source": [
    "params = batman.TransitParams()       #object to store transit parameters\n",
    "params.t0 = 0.                        #time of inferior conjunction\n",
    "params.per = 1.                       #orbital period\n",
    "params.rp = 0.2185                      #planet radius (in units of stellar radii)\n",
    "params.a = 20.                        #semi-major axis (in units of stellar radii)\n",
    "params.inc = 90.                      #orbital inclination (in degrees)\n",
    "params.ecc = 0.                       #eccentricity\n",
    "params.w = 90.                        #longitude of periastron (in degrees)\n",
    "params.limb_dark = \"quadratic\"        #limb darkening model\n",
    "params.u = [0.5, 0.05]      #limb darkening coefficients [u1, u2, u3, u4]\n",
    "\n",
    "t = np.linspace(-0.027, 0.027, 2000)  #times at which to calculate light curve\n",
    "m = batman.TransitModel(params, t)    #initializes model\n",
    "\n",
    "batman_flux = m.light_curve(params)                    #calculates light curve\n",
    "\n",
    "# Normalize light curve\n",
    "batman_flux_scaled = np.copy(batman_flux)\n",
    "batman_flux_scaled = (batman_flux - np.amin(batman_flux))/(np.amax(batman_flux) - np.amin(batman_flux))\n",
    "\n",
    "batman_phase = np.linspace(-1,1,len(batman_flux_scaled))\n",
    "plt.plot(batman_phase,batman_flux_scaled)\n",
    "plt.grid('on')\n",
    "plt.show()"
   ]
  },
  {
   "cell_type": "code",
   "execution_count": null,
   "metadata": {},
   "outputs": [],
   "source": [
    "# Cut light curve\n",
    "\n",
    "# flux_scaled_mask used to select the flat part by certain percentage\n",
    "batman_flux_scaled_mask = np.copy(batman_flux_scaled)\n",
    "\n",
    "batman_flux_scaled_mask[batman_flux_scaled_mask>=0.98] = 1.0\n",
    "batman_flux_scaled_mask[batman_flux_scaled_mask<0.98] = 0.0\n",
    "\n",
    "print(\"Length of batman lc = \",len(batman_flux_scaled_mask))\n",
    "\n",
    "count_zeros = np.count_nonzero(batman_flux_scaled_mask == 0)  \n",
    "\n",
    "center_index = int(len(batman_flux_scaled)/2)\n",
    "print(\"center_index = \",center_index)\n",
    "\n",
    "left_index = int(center_index - int(count_zeros/2)-int(count_zeros/6)) \n",
    "right_index = int(center_index + int(count_zeros/2)+int(count_zeros/6))\n",
    "print(\"left_index = \",left_index)\n",
    "print(\"right_index = \",right_index)\n",
    "batman_lc_test = batman_flux_scaled[left_index:right_index] # Cut light curve\n",
    "print(\"Length of cut light curve: batman_lc_test = \",len(batman_lc_test))\n",
    "plt.plot(np.linspace(-1,1,len(batman_lc_test)),batman_lc_test,label='Batman LC',color=\"tab:red\")\n",
    "# ax.scatter(np.linspace(-1,1,len(train_lc_scaled_append[0])),train_lc_scaled_append[0],label='Simulated LC',color=\"tab:red\",s=1)\n",
    "\n",
    "plt.grid('on')\n",
    "plt.show()"
   ]
  },
  {
   "cell_type": "markdown",
   "metadata": {},
   "source": [
    "Load 8bitTransit circle light curve (manual made using paintz)"
   ]
  },
  {
   "cell_type": "code",
   "execution_count": null,
   "metadata": {},
   "outputs": [],
   "source": [
    "# 8bit_lc\n",
    "# 1. Load Lightcurve Dataset\n",
    "lc_dir = '/scratch/abraham/Documents/mega_git/mega/data/random/npy/lc/lc_1_14Feb2024_circle_38_38_px.npy'\n",
    "test_lc = np.load(lc_dir)\n",
    "\n",
    "# Normalize the lightcurves\n",
    "## - Test Set\n",
    "test_lc_scaled = np.zeros(test_lc.shape)\n",
    "for i in np.arange(len(test_lc_scaled)):\n",
    "    test_lc_scaled[i] = (test_lc[i] - np.amin(test_lc[i]))/(np.amax(test_lc[i]) - np.amin(test_lc[i]))\n",
    "\n",
    "# Append with ones\n",
    "## - Test Set\n",
    "test_lc_scaled_append = np.ones((test_lc.shape[0],120))\n",
    "for i in np.arange(len(test_lc_scaled)):\n",
    "    test_lc_scaled_append[i,10:110] = test_lc_scaled[i]\n",
    "print(\"Extended the light curves\")\n",
    "\n",
    "lc_8bit = test_lc_scaled_append[0]\n",
    "\n",
    "plt.plot(np.linspace(-1,1,len(lc_8bit)),lc_8bit,label='8bit')\n",
    "plt.legend(bbox_to_anchor=(1.05, 1.0), loc='upper left')\n",
    "plt.grid('on')\n",
    "plt.show()"
   ]
  },
  {
   "cell_type": "markdown",
   "metadata": {},
   "source": [
    "Plot the difference of both the light curve"
   ]
  },
  {
   "cell_type": "code",
   "execution_count": null,
   "metadata": {},
   "outputs": [],
   "source": [
    "plt.plot(np.linspace(-1,1,len(batman_lc_test)),batman_lc_test,label='Batman LC',color=\"tab:red\")\n",
    "plt.plot(np.linspace(-1,1,len(lc_8bit)),lc_8bit,label='8bit')\n",
    "plt.legend(bbox_to_anchor=(1.05, 1.0), loc='upper left')\n",
    "plt.grid('on')\n",
    "plt.show()"
   ]
  },
  {
   "cell_type": "code",
   "execution_count": null,
   "metadata": {},
   "outputs": [],
   "source": [
    "# Downsample BATMAN light curve to match 8bit light curve's length\n",
    "def down_sample(to_down_sample_lc):\n",
    "        new_length = 120 # New length of that light curve array\n",
    "        to_down_sample = to_down_sample_lc\n",
    "        dwn_sample_idx = np.round(np.linspace(0, len(to_down_sample_lc) - 1, new_length)).astype(int)\n",
    "        down_sample_lc = to_down_sample[dwn_sample_idx]\n",
    "        return down_sample_lc\n",
    "\n",
    "batman_lc_test_sampled = down_sample(batman_lc_test)\n",
    "print('length = ',len(batman_lc_test_sampled))\n",
    "plt.plot(np.linspace(-1,1,len(batman_lc_test_sampled)),batman_lc_test_sampled,label='batman',color='blue')\n",
    "\n",
    "plt.plot(np.linspace(-1,1,len(lc_8bit)),lc_8bit,label='8bit (pixelated circle)',color='tab:red')\n",
    "plt.legend(bbox_to_anchor=(1.05, 1.0), loc='upper left')\n",
    "plt.ylabel(\"Flux\")\n",
    "plt.xlabel(\"Phase\")\n",
    "plt.grid('on')\n",
    "plt.show()"
   ]
  },
  {
   "cell_type": "code",
   "execution_count": null,
   "metadata": {},
   "outputs": [],
   "source": [
    "plt.title(\"Difference between light curves \\n 8bit(pixelated circle) - BATMAN\")\n",
    "plt.plot(np.linspace(-1,1,len(lc_8bit)),lc_8bit-batman_lc_test_sampled,label='8bit - BATMAN')\n",
    "plt.legend(bbox_to_anchor=(1.05, 1.0), loc='upper left')\n",
    "plt.ylabel(\"Flux\")\n",
    "plt.xlabel(\"Phase\")\n",
    "plt.grid('on')\n",
    "plt.show()\n",
    "\n",
    "MSE_Fitting = np.mean(np.square(lc_8bit-batman_lc_test_sampled))\n",
    "\n",
    "print(\"MSE_Fitting = \",MSE_Fitting)"
   ]
  },
  {
   "cell_type": "markdown",
   "metadata": {},
   "source": [
    "Save any new plots as csv"
   ]
  },
  {
   "cell_type": "code",
   "execution_count": null,
   "metadata": {},
   "outputs": [],
   "source": [
    "np.savetxt(\"/scratch/abraham/Documents/mega_git/mega/data/random/raw/lc/BATMAN_R0.2152_ldc_0.5_0.05/batman_R0.2152_ldc_0.5_0.05.csv\", batman_lc_test_sampled, delimiter=',')\n"
   ]
  },
  {
   "cell_type": "markdown",
   "metadata": {},
   "source": [
    "**Code to plot light curves and shapes save as npy**"
   ]
  },
  {
   "cell_type": "code",
   "execution_count": 1,
   "metadata": {},
   "outputs": [],
   "source": [
    "import matplotlib.pyplot as plt\n",
    "import numpy as np"
   ]
  },
  {
   "cell_type": "code",
   "execution_count": 9,
   "metadata": {},
   "outputs": [],
   "source": [
    "# 1. Load Lightcurve Dataset\n",
    "# lc_dir = '/scratch/abraham/Documents/mega_git/mega/data/random/npy/lc/lc_1_21Feb2024_circles_38_38_px.npy'\n",
    "lc_dir = '/scratch/abraham/Documents/mega_git/mega/data/random/npy/lc/lc_1_14Feb2024_circle_38_38_px.npy'\n",
    "\n",
    "test_lc = np.load(lc_dir)\n",
    "\n",
    "# Normalize the lightcurves\n",
    "## - Test Set\n",
    "test_lc_scaled = np.zeros(test_lc.shape)\n",
    "for i in np.arange(len(test_lc_scaled)):\n",
    "    test_lc_scaled[i] = (test_lc[i] - np.amin(test_lc[i]))/(np.amax(test_lc[i]) - np.amin(test_lc[i]))\n",
    "\n"
   ]
  },
  {
   "cell_type": "code",
   "execution_count": 10,
   "metadata": {},
   "outputs": [
    {
     "name": "stdout",
     "output_type": "stream",
     "text": [
      "100\n"
     ]
    }
   ],
   "source": [
    "print(len(test_lc_scaled[0]))"
   ]
  },
  {
   "cell_type": "code",
   "execution_count": 22,
   "metadata": {},
   "outputs": [
    {
     "name": "stdout",
     "output_type": "stream",
     "text": [
      "Extended the light curves\n"
     ]
    }
   ],
   "source": [
    "# Append with ones (if required only. \n",
    "# eg APPENDING not required for BATMAN lightcurve since we already append BATMAN \n",
    "# while saving it as csv file and npy file)\n",
    "## - Test Set\n",
    "test_lc_scaled_append = np.ones((test_lc.shape[0],120))\n",
    "for i in np.arange(len(test_lc_scaled)):\n",
    "    test_lc_scaled_append[i,10:110] = test_lc_scaled[i]\n",
    "test_lc_scaled_append = np.array(test_lc_scaled_append)\n",
    "print(\"Extended the light curves\")"
   ]
  },
  {
   "cell_type": "code",
   "execution_count": 23,
   "metadata": {},
   "outputs": [
    {
     "ename": "TypeError",
     "evalue": "'tuple' object is not callable",
     "output_type": "error",
     "traceback": [
      "\u001b[0;31m---------------------------------------------------------------------------\u001b[0m",
      "\u001b[0;31mTypeError\u001b[0m                                 Traceback (most recent call last)",
      "\u001b[1;32m/scratch/abraham/Documents/mega_git/mega/lightcurve_simulation/data_npy/plot_lc.ipynb Cell 34\u001b[0m line \u001b[0;36m1\n\u001b[0;32m----> <a href='vscode-notebook-cell://ssh-remote%2B172.20.48.60/scratch/abraham/Documents/mega_git/mega/lightcurve_simulation/data_npy/plot_lc.ipynb#X51sdnNjb2RlLXJlbW90ZQ%3D%3D?line=0'>1</a>\u001b[0m test_lc_scaled_append\u001b[39m.\u001b[39;49mshape()\n",
      "\u001b[0;31mTypeError\u001b[0m: 'tuple' object is not callable"
     ]
    }
   ],
   "source": [
    "test_lc_scaled_append.shape()"
   ]
  },
  {
   "cell_type": "code",
   "execution_count": 12,
   "metadata": {},
   "outputs": [],
   "source": [
    "shape_dir = '/scratch/abraham/Documents/mega_git/mega/data/random/npy/shape/21Feb2024_circles_38_38_px.npy'\n",
    "test_shape = np.load(shape_dir)\n",
    "\n",
    "# Normalize the image, convert to opacity map\n",
    "## Test Set\n",
    "test_shape = test_shape/np.amax(test_shape)\n",
    "test_shape_where_0 = np.where(test_shape == 0)\n",
    "test_shape_where_1 = np.where(test_shape == 1)\n",
    "test_shape[test_shape_where_0] = 1  # 1 represent the shape (1 opacity)\n",
    "test_shape[test_shape_where_1] = 0  # 0 represent background (0 opacity)"
   ]
  },
  {
   "cell_type": "code",
   "execution_count": 18,
   "metadata": {},
   "outputs": [
    {
     "ename": "TypeError",
     "evalue": "'tuple' object is not callable",
     "output_type": "error",
     "traceback": [
      "\u001b[0;31m---------------------------------------------------------------------------\u001b[0m",
      "\u001b[0;31mTypeError\u001b[0m                                 Traceback (most recent call last)",
      "\u001b[1;32m/scratch/abraham/Documents/mega_git/mega/lightcurve_simulation/data_npy/plot_lc.ipynb Cell 35\u001b[0m line \u001b[0;36m1\n\u001b[0;32m----> <a href='vscode-notebook-cell://ssh-remote%2B172.20.48.60/scratch/abraham/Documents/mega_git/mega/lightcurve_simulation/data_npy/plot_lc.ipynb#X50sdnNjb2RlLXJlbW90ZQ%3D%3D?line=0'>1</a>\u001b[0m test_lc_scaled_append\u001b[39m.\u001b[39;49mshape()\n",
      "\u001b[0;31mTypeError\u001b[0m: 'tuple' object is not callable"
     ]
    }
   ],
   "source": [
    "test_lc_scaled_append.shape()"
   ]
  },
  {
   "cell_type": "code",
   "execution_count": 17,
   "metadata": {},
   "outputs": [
    {
     "ename": "IndexError",
     "evalue": "index 6 is out of bounds for axis 0 with size 1",
     "output_type": "error",
     "traceback": [
      "\u001b[0;31m---------------------------------------------------------------------------\u001b[0m",
      "\u001b[0;31mIndexError\u001b[0m                                Traceback (most recent call last)",
      "\u001b[1;32m/scratch/abraham/Documents/mega_git/mega/lightcurve_simulation/data_npy/plot_lc.ipynb Cell 35\u001b[0m line \u001b[0;36m2\n\u001b[1;32m     <a href='vscode-notebook-cell://ssh-remote%2B172.20.48.60/scratch/abraham/Documents/mega_git/mega/lightcurve_simulation/data_npy/plot_lc.ipynb#X46sdnNjb2RlLXJlbW90ZQ%3D%3D?line=17'>18</a>\u001b[0m k \u001b[39m=\u001b[39m \u001b[39m1\u001b[39m \u001b[39m# int(1) # Index\u001b[39;00m\n\u001b[1;32m     <a href='vscode-notebook-cell://ssh-remote%2B172.20.48.60/scratch/abraham/Documents/mega_git/mega/lightcurve_simulation/data_npy/plot_lc.ipynb#X46sdnNjb2RlLXJlbW90ZQ%3D%3D?line=18'>19</a>\u001b[0m axes[\u001b[39m1\u001b[39m][\u001b[39m0\u001b[39m]\u001b[39m.\u001b[39mset_title(\u001b[39m'\u001b[39m\u001b[39mLight curve of a pixelated circle\u001b[39m\u001b[39m'\u001b[39m)\n\u001b[0;32m---> <a href='vscode-notebook-cell://ssh-remote%2B172.20.48.60/scratch/abraham/Documents/mega_git/mega/lightcurve_simulation/data_npy/plot_lc.ipynb#X46sdnNjb2RlLXJlbW90ZQ%3D%3D?line=19'>20</a>\u001b[0m axes[\u001b[39m1\u001b[39m][\u001b[39m0\u001b[39m]\u001b[39m.\u001b[39mplot(ph, test_lc_scaled_append[\u001b[39m6\u001b[39;49m], color\u001b[39m=\u001b[39m\u001b[39m'\u001b[39m\u001b[39mblue\u001b[39m\u001b[39m'\u001b[39m)\n\u001b[1;32m     <a href='vscode-notebook-cell://ssh-remote%2B172.20.48.60/scratch/abraham/Documents/mega_git/mega/lightcurve_simulation/data_npy/plot_lc.ipynb#X46sdnNjb2RlLXJlbW90ZQ%3D%3D?line=20'>21</a>\u001b[0m axes[\u001b[39m1\u001b[39m][\u001b[39m0\u001b[39m]\u001b[39m.\u001b[39mgrid(\u001b[39m'\u001b[39m\u001b[39mon\u001b[39m\u001b[39m'\u001b[39m)\n\u001b[1;32m     <a href='vscode-notebook-cell://ssh-remote%2B172.20.48.60/scratch/abraham/Documents/mega_git/mega/lightcurve_simulation/data_npy/plot_lc.ipynb#X46sdnNjb2RlLXJlbW90ZQ%3D%3D?line=21'>22</a>\u001b[0m axes[\u001b[39m1\u001b[39m][\u001b[39m0\u001b[39m]\u001b[39m.\u001b[39mset_ylabel(\u001b[39m'\u001b[39m\u001b[39mFlux\u001b[39m\u001b[39m'\u001b[39m)\n",
      "\u001b[0;31mIndexError\u001b[0m: index 6 is out of bounds for axis 0 with size 1"
     ]
    },
    {
     "data": {
      "image/png": "[encoded data removed]",
      "text/plain": [
       "<Figure size 1000x500 with 5 Axes>"
      ]
     },
     "metadata": {},
     "output_type": "display_data"
    }
   ],
   "source": [
    "fig, axes = plt.subplots(2, 2, figsize=(10, 5),gridspec_kw={'width_ratios': [2,1]})  # 1 row, 3 columns\n",
    "ph = np.linspace(-1,1,len(test_lc_scaled_append[0]))\n",
    "\n",
    "# Plot on each subplot\n",
    "k = int(0) # Index\n",
    "axes[0][0].set_title('Light curve of a pixelated circle')\n",
    "axes[0][0].plot(ph, test_lc_scaled_append[k], color='blue')\n",
    "axes[0][0].grid('on')\n",
    "axes[0][0].set_ylabel('Flux')\n",
    "axes[0][0].set_xlabel('Phase (Arbitrary Unit)')\n",
    "\n",
    "axes[0][1].set_title('Actual Shape')\n",
    "axes[0][1].tick_params(left = False, right = False , labelleft = False ,labelbottom = False, bottom = False)\n",
    "img = axes[0][1].imshow(test_shape[k],cmap='inferno')\n",
    "plt.colorbar(img)\n",
    "\n",
    "\n",
    "k = 1 # int(1) # Index\n",
    "axes[1][0].set_title('Light curve of a pixelated circle')\n",
    "axes[1][0].plot(ph, test_lc_scaled_append[6], color='blue')\n",
    "axes[1][0].grid('on')\n",
    "axes[1][0].set_ylabel('Flux')\n",
    "axes[1][0].set_xlabel('Phase (Arbitrary Unit)')\n",
    "\n",
    "axes[1][1].set_title('Actual Shape')\n",
    "axes[1][1].tick_params(left = False, right = False , labelleft = False ,labelbottom = False, bottom = False)\n",
    "img = axes[1][1].imshow(test_shape[6],cmap='inferno')\n",
    "plt.colorbar(img)\n",
    "\n",
    "plt.show()"
   ]
  }
 ],
 "metadata": {
  "kernelspec": {
   "display_name": "tf",
   "language": "python",
   "name": "python3"
  },
  "language_info": {
   "codemirror_mode": {
    "name": "ipython",
    "version": 3
   },
   "file_extension": ".py",
   "mimetype": "text/x-python",
   "name": "python",
   "nbconvert_exporter": "python",
   "pygments_lexer": "ipython3",
   "version": "3.10.13"
  }
 },
 "nbformat": 4,
 "nbformat_minor": 2
}
