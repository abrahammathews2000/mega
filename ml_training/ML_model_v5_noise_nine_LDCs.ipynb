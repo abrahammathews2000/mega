{
 "cells": [
  {
   "cell_type": "code",
   "execution_count": null,
   "metadata": {},
   "outputs": [],
   "source": [
    "import matplotlib.pyplot as plt\n",
    "import numpy as np\n",
    "plt.rcParams['figure.dpi'] = 400\n"
   ]
  },
  {
   "cell_type": "code",
   "execution_count": null,
   "metadata": {},
   "outputs": [],
   "source": [
    "# train_lc_dir =  '../data/test/npy/lc/test_lc_1_to_9.npy'\n",
    "# train_lc_dir ='../data/vald/npy/lc/vald_lc_1_to_9.npy'\n",
    "train_lc_dir ='../data/train/npy/lc/train_lc_1_to_9.npy'\n",
    "train_lc = np.load(train_lc_dir)\n"
   ]
  },
  {
   "cell_type": "code",
   "execution_count": null,
   "metadata": {},
   "outputs": [],
   "source": [
    "train_lc.shape"
   ]
  },
  {
   "cell_type": "code",
   "execution_count": null,
   "metadata": {},
   "outputs": [],
   "source": [
    "# 2. Normalize the lightcurves\n",
    "## - Train Set\n",
    "train_lc_scaled = np.zeros(train_lc.shape)\n",
    "for i in np.arange(len(train_lc_scaled)):\n",
    "    train_lc_scaled[i] = (train_lc[i] - np.amin(train_lc[i]))/(np.amax(train_lc[i]) - np.amin(train_lc[i]))\n"
   ]
  },
  {
   "cell_type": "code",
   "execution_count": null,
   "metadata": {},
   "outputs": [],
   "source": [
    "## - Train Set \n",
    "new_length_for_lc = 120\n",
    "start_index = int((new_length_for_lc - 100)/2)\n",
    "stop_index = start_index + 100\n",
    "train_lc_scaled_append = np.ones((train_lc.shape[0],new_length_for_lc))\n",
    "print('start_index = ',start_index)\n",
    "print('stop_index = ',stop_index)\n",
    "print('train_lc_scaled_append.shape = ',train_lc_scaled_append.shape)\n",
    "print(f\"len(train_lc_scaled_append[0,{start_index}:{stop_index}]) = \",len(train_lc_scaled_append[0,start_index:stop_index]))\n",
    "\n",
    "for i in np.arange(len(train_lc_scaled)):\n",
    "    train_lc_scaled_append[i,start_index:stop_index] = train_lc_scaled[i]"
   ]
  },
  {
   "cell_type": "code",
   "execution_count": null,
   "metadata": {},
   "outputs": [],
   "source": [
    "# Verification\n",
    "# Plot - Train LCs\n",
    "num = 3\n",
    "fig,ax=plt.subplots(num,1, figsize=(6,12), gridspec_kw={ 'width_ratios': [1],\n",
    "        'wspace': 0.4,'hspace': 0.4})\n",
    "plt.rcParams['figure.dpi'] = 400\n",
    "\n",
    "ax[0].set_title('Light Curve',size=13)\n",
    "ax[num-1].set_xlabel('Phase (Arbitary Unit)',size=13)\n",
    "ph_simul = np.linspace(-1,1,len(train_lc_scaled_append[0]))\n",
    "# advance = 60\n",
    "\n",
    "i = 0\n",
    "for i in np.arange(0,num):\n",
    "    k = np.random.randint(0, len(train_lc_scaled_append)-1)\n",
    "    if(i<num-1): ax[i].tick_params(labelbottom = False, bottom = False)\n",
    "    ax[i].set_ylabel('Flux',size=13)\n",
    "    ax[i].set_ylim(-0.5,1.5)\n",
    "    # ax[i][0].scatter(ph, vald_lc_scaled_append[k],color = 'black',marker='.')\n",
    "    ax[i].plot(ph_simul, train_lc_scaled_append[k],color = 'black',linewidth='1.5')\n",
    "    ax[i].grid('on')\n",
    "    i = i + 1"
   ]
  },
  {
   "cell_type": "code",
   "execution_count": null,
   "metadata": {},
   "outputs": [],
   "source": [
    "# train_shape_dir = '../data/test/npy/shape/test_shape_1_9times.npy'\n",
    "# train_shape_dir = '../data/vald/npy/shape/vald_shape_1_9times.npy'\n",
    "train_shape_dir = '../data/train/npy/shape/train_shape_5_9times.npy'\n",
    "\n",
    "train_shape = np.load(train_shape_dir)\n",
    "print('train_shape.shape = ',train_shape.shape)\n",
    "# 2. Normalize the image, convert to opacity map\n",
    "## Train Set\n",
    "train_shape = train_shape/np.amax(train_shape)\n",
    "train_shape_where_0 = np.where(train_shape == 0)\n",
    "train_shape_where_1 = np.where(train_shape == 1)\n",
    "train_shape[train_shape_where_0] = 1  # 1 represent the shape (1 opacity)\n",
    "train_shape[train_shape_where_1] = 0  # 0 represent background (0 opacity)\n"
   ]
  },
  {
   "cell_type": "code",
   "execution_count": null,
   "metadata": {},
   "outputs": [],
   "source": [
    "if len(train_lc)==len(train_shape):\n",
    "    print(\"Train Set: No. of LC = No. of shapes\")"
   ]
  },
  {
   "cell_type": "code",
   "execution_count": null,
   "metadata": {},
   "outputs": [],
   "source": [
    "# Verification\n",
    "# Plot - Train LCs\n",
    "num = 3\n",
    "fig,ax=plt.subplots(num,2, figsize=(4,3), gridspec_kw={ 'width_ratios': [2,1],\n",
    "        'wspace': 0.2,'hspace': 0.4})\n",
    "\n",
    "ax[0][1].set_title('Shape',size=15)\n",
    "ax[0][0].set_title('Light Curve (Train Dataset)',size=15)\n",
    "ax[num-1][0].set_xlabel('Phase',size=13)\n",
    "ph = np.linspace(-1,1,len(train_lc_scaled_append[0]))\n",
    "# advance = 60\n",
    "\n",
    "i = 0\n",
    "for i in np.arange(0,num):\n",
    "    k = np.random.randint(0, len(train_lc_scaled_append)-1)\n",
    "    ax[i][1].tick_params(left = False, right = False , labelleft = False ,labelbottom = False, bottom = False)\n",
    "    if(i<num-1): ax[i][0].tick_params(labelbottom = False, bottom = False)\n",
    "    img = ax[i][1].imshow(train_shape[k],cmap='inferno')\n",
    "    plt.colorbar(img)\n",
    "    ax[i][0].set_ylabel('Flux',size=13)\n",
    "    ax[i][0].set_ylim(-0.5,1.5)\n",
    "#     ax[i][0].scatter(ph, vald_lc_scaled_append[k],color = 'black',marker='.')\n",
    "    ax[i][0].plot(ph, train_lc_scaled_append[k],color = 'tab:red',linewidth='2')\n",
    "    ax[i][0].grid('on')\n",
    "    i = i + 1"
   ]
  }
 ],
 "metadata": {
  "kernelspec": {
   "display_name": "tf",
   "language": "python",
   "name": "python3"
  },
  "language_info": {
   "codemirror_mode": {
    "name": "ipython",
    "version": 3
   },
   "file_extension": ".py",
   "mimetype": "text/x-python",
   "name": "python",
   "nbconvert_exporter": "python",
   "pygments_lexer": "ipython3",
   "version": "3.9.17"
  }
 },
 "nbformat": 4,
 "nbformat_minor": 2
}
