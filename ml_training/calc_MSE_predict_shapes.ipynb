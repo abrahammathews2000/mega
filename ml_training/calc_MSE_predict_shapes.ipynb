{
 "cells": [
  {
   "cell_type": "code",
   "execution_count": null,
   "metadata": {},
   "outputs": [],
   "source": [
    "# This code is used to compute the MSE\n",
    "# between predicted shape and actual shape\n",
    "# Steps involves:\n",
    "# 1. Fold the original image horizontally at the center\n",
    "# (Mirror the top part on to the bottom and add,\n",
    "# then give pixel value 1 to all values other than 0)\n",
    "# 2. Fold the predicted image similarly \n",
    "# (Mirror the top part on to the bottom and add,\n",
    "# then normalize the image)"
   ]
  },
  {
   "cell_type": "code",
   "execution_count": null,
   "metadata": {},
   "outputs": [],
   "source": [
    "# Import necessary libraries\n",
    "\n",
    "import matplotlib.pyplot as plt\n",
    "import numpy as np"
   ]
  }
 ],
 "metadata": {
  "language_info": {
   "name": "python"
  },
  "orig_nbformat": 4
 },
 "nbformat": 4,
 "nbformat_minor": 2
}
