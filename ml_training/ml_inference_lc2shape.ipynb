{
 "cells": [
  {
   "cell_type": "code",
   "execution_count": null,
   "metadata": {},
   "outputs": [],
   "source": [
    "# Code to test whether this ipynb was already ran before\n",
    "a = 5 \n",
    "a"
   ]
  },
  {
   "cell_type": "markdown",
   "metadata": {},
   "source": [
    "This code is used to infer transit shape from input light curve.\n",
    "It involves following steps:\n",
    "1. Load ML model\n",
    "2. Load input data - i.e. the light curves\n",
    "3. Predict the shapes from the light curves\n",
    "\n",
    "4. Load True Output (if any)"
   ]
  },
  {
   "cell_type": "markdown",
   "metadata": {},
   "source": [
    "Load ML model"
   ]
  },
  {
   "cell_type": "code",
   "execution_count": null,
   "metadata": {},
   "outputs": [],
   "source": [
    "# Import TF and check for GPU\n",
    "\n",
    "import tensorflow as tf\n",
    "print(tf.config.list_physical_devices('GPU'))\n",
    "print(\"TensorFlow version:\", tf.__version__)\n",
    "\n",
    "# Import required libraries\n",
    "\n",
    "import matplotlib.pyplot as plt\n",
    "import numpy as np\n",
    "from tensorflow import keras\n",
    "from keras import layers\n",
    "from tensorflow.keras.models import save_model, load_model\n",
    "import math\n",
    "import sys\n",
    "from numpy import array,append,arange,zeros,exp,sin,random,std\n",
    "from scipy.interpolate import interp1d"
   ]
  },
  {
   "cell_type": "code",
   "execution_count": null,
   "metadata": {},
   "outputs": [],
   "source": [
    "model_load = load_model(\"../ml_model/nov13_model1/nov13_model1_sample_interpolate_no_noise_unf_samplept_20to60.h5\")\n"
   ]
  },
  {
   "cell_type": "markdown",
   "metadata": {},
   "source": [
    "Load Input data to infer on"
   ]
  },
  {
   "cell_type": "code",
   "execution_count": null,
   "metadata": {},
   "outputs": [],
   "source": [
    "# 1. Load Lightcurve Dataset\n",
    "lc_dir = '/scratch/abraham/Documents/mega_git/mega/data/random/npy/lc/lc_1_14Feb2024_circle_38_38_px.npy'\n",
    "test_lc = np.load(lc_dir)\n",
    "\n",
    "# Normalize the lightcurves\n",
    "## - Test Set\n",
    "test_lc_scaled = np.zeros(test_lc.shape)\n",
    "for i in np.arange(len(test_lc_scaled)):\n",
    "    test_lc_scaled[i] = (test_lc[i] - np.amin(test_lc[i]))/(np.amax(test_lc[i]) - np.amin(test_lc[i]))\n",
    "\n",
    "# Append with ones\n",
    "## - Test Set\n",
    "test_lc_scaled_append = np.ones((test_lc.shape[0],120))\n",
    "for i in np.arange(len(test_lc_scaled)):\n",
    "    test_lc_scaled_append[i,10:110] = test_lc_scaled[i]\n",
    "print(\"Extended the light curves\")"
   ]
  },
  {
   "cell_type": "markdown",
   "metadata": {},
   "source": [
    "Predict Shape"
   ]
  },
  {
   "cell_type": "code",
   "execution_count": null,
   "metadata": {},
   "outputs": [],
   "source": [
    "# Test on the ML model - Test Dataset - Original Simulated light curve \n",
    "# (i.e. without sampling and interpolation)\n",
    "# Test dataset - Prediciton\n",
    "test_predict_shape = model_load.predict(test_lc_scaled_append)\n",
    "test_predict_shape_normalized = np.zeros(test_predict_shape.shape)\n",
    "for i in np.arange(len(test_predict_shape)):\n",
    "    test_predict_shape_normalized[i] = (test_predict_shape[i] - np.amin(test_predict_shape[i]))/(np.amax(test_predict_shape[i]) - np.amin(test_predict_shape[i]))\n",
    "print(\"Normalized the predicted shape\")\n",
    "test_predict_shape = test_predict_shape_normalized\n",
    "del test_predict_shape_normalized"
   ]
  },
  {
   "cell_type": "markdown",
   "metadata": {},
   "source": [
    "Plot (a single set) - Adjust index k to get the kth I/O\n",
    "1. input light curve \n",
    "2. predicted output"
   ]
  },
  {
   "cell_type": "code",
   "execution_count": null,
   "metadata": {},
   "outputs": [],
   "source": [
    "fig, axes = plt.subplots(1, 2, figsize=(15, 5))  # 1 row, 2 columns\n",
    "ph = np.linspace(-1,1,len(test_lc_scaled_append[0]))\n",
    "\n",
    "# Plot on each subplot\n",
    "k = int(0) # Index\n",
    "axes[0].set_title('Light Curve')\n",
    "axes[0].plot(ph, test_lc_scaled_append[k], color='blue')\n",
    "\n",
    "\n",
    "axes[1].set_title('Predicted Shape')\n",
    "axes[1].tick_params(left = False, right = False , labelleft = False ,labelbottom = False, bottom = False)\n",
    "img = axes[1].imshow(test_predict_shape[k],cmap='inferno')\n",
    "plt.colorbar(img)\n",
    "\n",
    "plt.show()\n"
   ]
  },
  {
   "cell_type": "markdown",
   "metadata": {},
   "source": [
    "Load True Output if any"
   ]
  },
  {
   "cell_type": "code",
   "execution_count": null,
   "metadata": {},
   "outputs": [],
   "source": [
    "shape_dir = '/scratch/abraham/Documents/mega_git/mega/data/test/npy/shape/shape_1.npy'\n",
    "test_shape = np.load(shape_dir)\n",
    "\n",
    "# Normalize the image, convert to opacity map\n",
    "## Test Set\n",
    "test_shape = test_shape/np.amax(test_shape)\n",
    "test_shape_where_0 = np.where(test_shape == 0)\n",
    "test_shape_where_1 = np.where(test_shape == 1)\n",
    "test_shape[test_shape_where_0] = 1  # 1 represent the shape (1 opacity)\n",
    "test_shape[test_shape_where_1] = 0  # 0 represent background (0 opacity)"
   ]
  },
  {
   "cell_type": "markdown",
   "metadata": {},
   "source": [
    "Miscellance Operations\n",
    "1. Plot input lightcurve\n",
    "2. Show predicted output\n",
    "3. Show true output"
   ]
  },
  {
   "cell_type": "code",
   "execution_count": null,
   "metadata": {},
   "outputs": [],
   "source": [
    "fig, axes = plt.subplots(1, 3, figsize=(15, 5))  # 1 row, 3 columns\n",
    "ph = np.linspace(-1,1,len(test_lc_scaled_append[0]))\n",
    "\n",
    "# Plot on each subplot\n",
    "k = int(0) # Index\n",
    "axes[0].set_title('Light Curve')\n",
    "axes[0].plot(ph, test_lc_scaled_append[k], color='blue')\n",
    "\n",
    "\n",
    "axes[1].set_title('Predicted Shape')\n",
    "axes[1].tick_params(left = False, right = False , labelleft = False ,labelbottom = False, bottom = False)\n",
    "img = axes[1].imshow(test_predict_shape[k],cmap='inferno')\n",
    "plt.colorbar(img)\n",
    "\n",
    "axes[2].set_title('Actual Shape')\n",
    "axes[2].tick_params(left = False, right = False , labelleft = False ,labelbottom = False, bottom = False)\n",
    "img = axes[2].imshow(test_shape[k],cmap='inferno')\n",
    "plt.colorbar(img)\n",
    "\n",
    "plt.show()"
   ]
  }
 ],
 "metadata": {
  "kernelspec": {
   "display_name": "tf",
   "language": "python",
   "name": "python3"
  },
  "language_info": {
   "codemirror_mode": {
    "name": "ipython",
    "version": 3
   },
   "file_extension": ".py",
   "mimetype": "text/x-python",
   "name": "python",
   "nbconvert_exporter": "python",
   "pygments_lexer": "ipython3",
   "version": "3.9.17"
  }
 },
 "nbformat": 4,
 "nbformat_minor": 2
}
