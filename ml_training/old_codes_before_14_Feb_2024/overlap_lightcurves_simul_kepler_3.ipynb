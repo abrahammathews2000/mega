{
 "cells": [
  {
   "cell_type": "code",
   "execution_count": null,
   "metadata": {},
   "outputs": [],
   "source": [
    "# This code is used to overlap circle light curve on \n",
    "# KIC 9166862 AND other good light curves"
   ]
  },
  {
   "cell_type": "code",
   "execution_count": null,
   "metadata": {},
   "outputs": [],
   "source": [
    "a = 10\n",
    "a"
   ]
  },
  {
   "cell_type": "code",
   "execution_count": null,
   "metadata": {},
   "outputs": [],
   "source": [
    "# Libraries to Load\n",
    "\n",
    "import pytransit as trans\n",
    "import numpy as np\n",
    "import matplotlib.pyplot as plt\n",
    "from corner import corner"
   ]
  },
  {
   "cell_type": "code",
   "execution_count": null,
   "metadata": {},
   "outputs": [],
   "source": [
    "# Code to fit pytransit on Kepler LC"
   ]
  },
  {
   "cell_type": "markdown",
   "metadata": {},
   "source": [
    "# TRANSIT.PY UCLA IAN"
   ]
  },
  {
   "cell_type": "code",
   "execution_count": null,
   "metadata": {},
   "outputs": [],
   "source": [
    "import matplotlib.pyplot as plt\n",
    "plt.rcParams['figure.dpi'] = 400\n",
    "import numpy as np\n",
    "import transit"
   ]
  },
  {
   "cell_type": "code",
   "execution_count": null,
   "metadata": {},
   "outputs": [],
   "source": [
    "# Reproduce Figure 2 of Mandel & Agol (2002):\n",
    "\n",
    "z = np.linspace(0, 1.25, 200)\n",
    "gammavals = [[0.01, 0.01], [1., 0.], [0.85, 0.06]]\n",
    "plt.figure()\n",
    "for gammas in gammavals:\n",
    "    f = transit.occultquad(z, 0.2, gammas)\n",
    "    plt.plot(z, f)"
   ]
  },
  {
   "cell_type": "code",
   "execution_count": null,
   "metadata": {},
   "outputs": [],
   "source": [
    "p, b = 0.1, 0.5\n",
    "x = np.linspace(-1.25,1.25,100) #(arange(300.)/299. - 0.5)*2.\n",
    "z = np.sqrt(x**2 + b**2)\n",
    "gammas = [.75, .75]\n",
    "F1, Funi, lambdad, etad = transit.occultquad(z, p, gammas, retall=True)\n",
    "\n",
    "gammas = [.01, .01]\n",
    "# F2 = 1. - ((1. - gammas[0] - 2.*gammas[1])*(1. - F1) + (gammas[0] + 2.*gammas[1])*(lambdad + 2./3.*(p > z)) + gammas[1]*etad) / (1. - gammas[0]/3. - gammas[1]/6.)\n",
    "F2, Funi, lambdad, etad = transit.occultquad(z, p, gammas, retall=True)\n",
    "\n",
    "plt.figure()\n",
    "plt.plot(x, F1, x, F2)\n",
    "plt.legend(['F1', 'F2'])"
   ]
  },
  {
   "cell_type": "markdown",
   "metadata": {},
   "source": [
    "# KEPLER DATA LOAD"
   ]
  },
  {
   "cell_type": "code",
   "execution_count": null,
   "metadata": {},
   "outputs": [],
   "source": [
    "kepid_array = np.load(\"../data/tfr_shallue/npy_shallue/kepid.npy\")\n",
    "print('kepid_load = ',kepid_array[0])\n",
    "\n",
    "av_training_set_array = np.load(\"../data/tfr_shallue/npy_shallue/av_training_set.npy\")\n",
    "print('av_training_set_array = ',av_training_set_array[0])\n",
    "\n",
    "local_view_array = np.load(\"../data/tfr_shallue/npy_shallue/local_view.npy\")\n",
    "local_view_array = local_view_array + 1\n",
    "print('local_view_array = ',local_view_array[0])"
   ]
  },
  {
   "cell_type": "code",
   "execution_count": null,
   "metadata": {},
   "outputs": [],
   "source": [
    "# Plot one light curve (local)\n",
    "# plt.grid('on')\n",
    "# plt.plot(np.arange(len(local_view_array[0])),local_view_array[0])\n",
    "# plt.show()"
   ]
  },
  {
   "cell_type": "code",
   "execution_count": null,
   "metadata": {},
   "outputs": [],
   "source": [
    "# Calculate SNR for each Local view lc and save them in an array\n",
    "noise_array = np.zeros((len(local_view_array),120))\n",
    "for i in np.arange(len(local_view_array)):\n",
    "    noise_array[i][0:60] = local_view_array[i,0:60]\n",
    "    noise_array[i][60:120] = local_view_array[i,141:202]\n",
    "std_devs_Kepler = np.array([np.std(arr) for arr in noise_array])\n",
    "SNR_Kepler = 1/std_devs_Kepler"
   ]
  },
  {
   "cell_type": "code",
   "execution_count": null,
   "metadata": {},
   "outputs": [],
   "source": [
    "# Save the index of the light curve with SNR > 500\n",
    "# and plot them\n",
    "# select_kepler_lc = lc_np_array[SNR_Kepler>75]\n",
    "# select_kepler_lc = select_kepler_lc + 1\n",
    "\n",
    "SNR_Threshold = 1000\n",
    "selected_kepler_index_mask = ((SNR_Kepler > SNR_Threshold) & (av_training_set_array==b'P')) \n",
    "selected_kepler_index = np.where(selected_kepler_index_mask)[0]\n",
    "print(f\"No. of light curves with SNR > {SNR_Threshold} = \",len(selected_kepler_index))\n",
    "print(f\"Total no. of light curves = \",len(SNR_Kepler))\n",
    "# Plot the selected light curves 3 x 3\n",
    "num = 3\n",
    "fig,ax=plt.subplots(num,3, figsize=(12,6), gridspec_kw={ 'width_ratios': [1,1,1],\n",
    "        'wspace': 0.2,'hspace': 0.4})\n",
    "\n",
    "# ax[0][1].set_title('Shape',size=15)\n",
    "# ax[0][0].set_title('Light Curve (Train Dataset)',size=15)\n",
    "# ax[num-1][0].set_xlabel('Phase',size=13)\n",
    "ph_kepler = np.linspace(-1,1,len(local_view_array[0]))\n",
    "\n",
    "\n",
    "i = 0\n",
    "for i in np.arange(0,num):\n",
    "    # k = np.random.randint(0, len(select_kepler_lc)-50)\n",
    "    k = int(np.random.choice(selected_kepler_index))\n",
    "    ax[i][0].set_title(f'{np.round(kepid_array[k],0)} | SNR = {int(np.round(SNR_Kepler[k],0))} | {av_training_set_array[k]}',size=13)\n",
    "    ax[i][0].set_ylim(-0.5,1.5)\n",
    "    ax[i][0].scatter(ph_kepler, local_view_array[k],color = 'tab:red',s=2)\n",
    "    ax[i][0].grid('on')\n",
    "\n",
    "    k = int(np.random.choice(selected_kepler_index))\n",
    "    ax[i][1].set_title(f'{np.round(kepid_array[k],0)} |SNR = {int(np.round(SNR_Kepler[k],0))} | {av_training_set_array[k]}',size=13)\n",
    "    ax[i][1].set_ylim(-0.5,1.5)\n",
    "    ax[i][1].scatter(ph_kepler, local_view_array[k],color = 'tab:red',s=2)\n",
    "    ax[i][1].grid('on')\n",
    "\n",
    "    k = int(np.random.choice(selected_kepler_index))\n",
    "    ax[i][2].set_title(f'{np.round(kepid_array[k],0)} |SNR = {int(np.round(SNR_Kepler[k],0))} | {av_training_set_array[k]}',size=13)\n",
    "    ax[i][2].set_ylim(-0.5,1.5)\n",
    "    ax[i][2].scatter(ph_kepler, local_view_array[k],color = 'tab:red',s=2)\n",
    "    ax[i][2].grid('on')\n",
    "    i = i + 1"
   ]
  },
  {
   "cell_type": "code",
   "execution_count": null,
   "metadata": {},
   "outputs": [],
   "source": [
    "# selecting left and right side by certain percentage\n",
    "# (A) Kepler LC\n",
    "# lc_np_array_offset_mask used to select the flat part by certain percentage\n",
    "local_view_array_mask = np.copy(local_view_array)\n",
    "\n",
    "for iter in np.arange(len(local_view_array_mask)):\n",
    "    # 0.988 is working good | lower it and see changes # 0.96 - 0.97 -better # 0.95 -worse\n",
    "    local_view_array_mask[iter][(local_view_array_mask[iter]>=0.98)] = 1.0\n",
    "    local_view_array_mask[iter][(local_view_array_mask[iter]<0.98)] = 0.0\n",
    "\n",
    "print(\"Length of one Kepler LC = \",len(local_view_array_mask[0]))\n",
    "\n",
    "\n",
    "\n",
    "count_zeros_array_kepler = np.zeros((len(local_view_array),))\n",
    "for iteration in np.arange(len(local_view_array)):\n",
    "    # Calculate the number of occurrences of '0'\n",
    "    count_zeros = np.count_nonzero(local_view_array_mask[iteration] == 0)  \n",
    "    count_zeros_array_kepler[iteration] = count_zeros\n",
    "\n",
    "\n"
   ]
  },
  {
   "cell_type": "code",
   "execution_count": null,
   "metadata": {},
   "outputs": [],
   "source": [
    "center_index_kepler = int(len(local_view_array[0])/2)\n",
    "print(\"center_index_kepler = \",center_index_kepler)\n",
    "\n",
    "# Create a figure and axis\n",
    "fig, ax = plt.subplots()\n",
    "\n",
    "for iteration in np.arange(1):\n",
    "    # selected_kepler_index_elem = selected_kepler_index[iteration]\n",
    "    selected_kepler_index_elem = np.random.choice(selected_kepler_index)\n",
    "    print('selected_kepler_index_elem = ',selected_kepler_index_elem)\n",
    "    left_index_kepler = int(center_index_kepler - int(count_zeros_array_kepler[selected_kepler_index_elem]/2)-int(count_zeros_array_kepler[selected_kepler_index_elem]/6)) \n",
    "    right_index_kepler = int(center_index_kepler + int(count_zeros_array_kepler[selected_kepler_index_elem]/2)+int(count_zeros_array_kepler[selected_kepler_index_elem]/6))\n",
    "    # print(\"left_index = \",left_index)\n",
    "    # print(\"right_index = \",right_index)\n",
    "    lc_test_kepler=local_view_array[selected_kepler_index_elem][left_index_kepler:right_index_kepler+1]\n",
    "    ax.scatter(np.linspace(-1,1,len(lc_test_kepler)),lc_test_kepler,s=5,label=f\"KIC {kepid_array[selected_kepler_index_elem]}\")\n",
    "    # ax.plot(np.linspace(-1,1,len(lc_test)),lc_test)\n",
    "\n",
    "plt.legend(bbox_to_anchor=(1.05, 1.0), loc='upper left')\n",
    "plt.grid('on')\n",
    "plt.show()\n"
   ]
  },
  {
   "cell_type": "markdown",
   "metadata": {},
   "source": [
    "# TRAIN LC Load"
   ]
  },
  {
   "cell_type": "code",
   "execution_count": null,
   "metadata": {},
   "outputs": [],
   "source": [
    "train_lc_dir =  '/scratch/abraham/Documents/mega_git/mega/data/train/npy/lc/lc_planet_oblate/lc_1_planet_oblate_circle.npy'\n",
    "train_lc = np.load(train_lc_dir)\n"
   ]
  },
  {
   "cell_type": "code",
   "execution_count": null,
   "metadata": {},
   "outputs": [],
   "source": [
    "# 2. Normalize the lightcurves\n",
    "## - Train Set\n",
    "train_lc_scaled = np.zeros(train_lc.shape)\n",
    "for i in np.arange(len(train_lc_scaled)):\n",
    "    train_lc_scaled[i] = (train_lc[i] - np.amin(train_lc[i]))/(np.amax(train_lc[i]) - np.amin(train_lc[i]))\n"
   ]
  },
  {
   "cell_type": "code",
   "execution_count": null,
   "metadata": {},
   "outputs": [],
   "source": [
    "ph = np.linspace(-1,1,len(train_lc_scaled[0]))\n",
    "plt.plot(ph,train_lc_scaled[0])\n",
    "plt.grid('on')\n",
    "plt.show()"
   ]
  },
  {
   "cell_type": "code",
   "execution_count": null,
   "metadata": {},
   "outputs": [],
   "source": [
    "# (B) Simulated LC\n",
    "# lc_np_array_offset_mask used to select the flat part by certain percentage\n",
    "simul_lc_array_mask = np.copy(train_lc_scaled)\n",
    "\n",
    "for iter in np.arange(len(simul_lc_array_mask)):\n",
    "    # 0.988 is working good | lower it and see changes # 0.96 - 0.97 -better # 0.95 -worse\n",
    "    simul_lc_array_mask[iter][(train_lc_scaled[iter]>=0.98)] = 1.0\n",
    "    simul_lc_array_mask[iter][(train_lc_scaled[iter]<0.98)] = 0.0\n",
    "\n",
    "print(\"Length of one simulated LC = \",len(simul_lc_array_mask[0]))\n",
    "\n",
    "count_zeros_array_simul_LC = np.zeros((len(train_lc_scaled),))\n",
    "for iteration in np.arange(len(train_lc_scaled)):\n",
    "    # Calculate the number of occurrences of '0'\n",
    "    count_zeros = np.count_nonzero(simul_lc_array_mask[iteration] == 0)  \n",
    "    count_zeros_array_simul_LC[iteration] = count_zeros"
   ]
  },
  {
   "cell_type": "code",
   "execution_count": null,
   "metadata": {},
   "outputs": [],
   "source": [
    "center_index_simulate = int(len(train_lc_scaled[0])/2)\n",
    "print(\"center_index = \",center_index_simulate)\n",
    "\n",
    "# Create a figure and axis\n",
    "fig, ax = plt.subplots()\n",
    "\n",
    "for iteration in np.arange(1):\n",
    "    # Simulated LC\n",
    "    selected_simulated_index = 4 # np.random.randint(0,len(train_lc_scaled))\n",
    "    print('selected_simulated_index = ',selected_simulated_index)\n",
    "    left_index_simul = int(center_index_simulate - int(count_zeros_array_simul_LC[selected_simulated_index]/2)-int(count_zeros_array_simul_LC[selected_simulated_index]/6)) \n",
    "    right_index_simul = int(center_index_simulate + int(count_zeros_array_simul_LC[selected_simulated_index]/2)+int(count_zeros_array_simul_LC[selected_simulated_index]/6))\n",
    "    print(\"left_index_simul = \",left_index_simul) # 7 # 15 # \n",
    "    print(\"right_index_simul = \",right_index_simul)# 113 105 # \n",
    "    lc_test_simul=train_lc_scaled[selected_simulated_index][left_index_simul:right_index_simul+1]\n",
    "    # ax.scatter(np.linspace(-1,1,len(lc_test)),lc_test,s=5,label=f\"KIC {kepid_array[selected_kepler_index_elem]}\")\n",
    "    # ax.scatter(np.linspace(-1,1,len(lc_test_simul)),lc_test_simul,s=5)\n",
    "    ax.plot(np.linspace(-1,1,len(lc_test_simul)),lc_test_simul,color='tab:red',label = 'Circle')\n",
    "\n",
    "    # Kepler\n",
    "    selected_kepler_index_elem = 5718 # np.random.choice(selected_kepler_index) # 14416 # 12096 # \n",
    "    print('selected_kepler_index_elem = ',selected_kepler_index_elem)\n",
    "    print(f\"KIC {int(kepid_array[selected_kepler_index_elem])}\")\n",
    "    left_index_kepler = int(center_index_kepler - int(count_zeros_array_kepler[selected_kepler_index_elem]/2)-int(count_zeros_array_kepler[selected_kepler_index_elem]/6)) \n",
    "    right_index_kepler = int(center_index_kepler + int(count_zeros_array_kepler[selected_kepler_index_elem]/2)+int(count_zeros_array_kepler[selected_kepler_index_elem]/6))\n",
    "    print(\"left_index_kepler = \",left_index_kepler)\n",
    "    print(\"right_index_kepler = \",right_index_kepler)\n",
    "    # lc_test_kepler=local_view_array[selected_kepler_index_elem][left_index_kepler:right_index_kepler+1]\n",
    "    lc_test_kepler=local_view_array[selected_kepler_index_elem][82:120] # [84:118]\n",
    "    ax.scatter(np.linspace(-1,1,len(lc_test_kepler)),lc_test_kepler,s=5,label=f\"KIC {int(kepid_array[selected_kepler_index_elem])}\")\n",
    "\n",
    "plt.legend(bbox_to_anchor=(1.05, 1.0), loc='upper left')\n",
    "plt.grid('on')\n",
    "plt.show()\n"
   ]
  },
  {
   "cell_type": "markdown",
   "metadata": {},
   "source": [
    "# PYTRANSIT fit on Kepler"
   ]
  },
  {
   "cell_type": "code",
   "execution_count": null,
   "metadata": {},
   "outputs": [],
   "source": [
    "k = int(np.random.choice(selected_kepler_index))\n",
    "print(\"k = \",k)\n",
    "print(\"KIC: \",int(np.round(kepid_array[k],0)))\n",
    "\n",
    "\n"
   ]
  },
  {
   "cell_type": "code",
   "execution_count": null,
   "metadata": {},
   "outputs": [],
   "source": [
    "# Without cutting the lc\n",
    "fit_this_k = k\n",
    "print(\"KIC ID: \",int(np.round(kepid_array[fit_this_k],0)))\n",
    "ph = np.linspace(-1,1,len(local_view_array[fit_this_k]))\n",
    "Kepler_flux = local_view_array[fit_this_k]\n",
    "\n",
    "plt.title(f\"KIC {int(np.round(kepid_array[fit_this_k],0))}\")\n",
    "plt.plot(ph,Kepler_flux)\n",
    "plt.show()"
   ]
  },
  {
   "cell_type": "code",
   "execution_count": null,
   "metadata": {},
   "outputs": [],
   "source": [
    "# After cutting LC\n",
    "\n",
    "fit_this_k = k\n",
    "print(\"KIC ID: \",int(np.round(kepid_array[fit_this_k],0)))\n",
    "ph = np.linspace(-1,1,len(local_view_array[fit_this_k]))\n",
    "Kepler_flux = local_view_array[fit_this_k]\n",
    "\n",
    "center_index_kepler = int(len(local_view_array[0])/2)\n",
    "print('selected_kepler_index_elem = ',fit_this_k)\n",
    "left_index_kepler = int(center_index_kepler - int(count_zeros_array_kepler[fit_this_k]/2)-int(count_zeros_array_kepler[fit_this_k]/6)) \n",
    "right_index_kepler = int(center_index_kepler + int(count_zeros_array_kepler[fit_this_k]/2)+int(count_zeros_array_kepler[fit_this_k]/6))\n",
    "\n",
    "\n",
    "Kepler_flux_cut = local_view_array[fit_this_k][left_index_kepler:right_index_kepler+1]\n",
    "ph_cut = np.linspace(-1,1,len(Kepler_flux_cut))"
   ]
  },
  {
   "cell_type": "code",
   "execution_count": null,
   "metadata": {},
   "outputs": [],
   "source": [
    "plt.title(f\"KIC {int(np.round(kepid_array[fit_this_k],0))}\")\n",
    "plt.plot(ph_cut,Kepler_flux_cut)\n",
    "plt.show()"
   ]
  },
  {
   "cell_type": "code",
   "execution_count": null,
   "metadata": {},
   "outputs": [],
   "source": [
    "ta = trans.TransitAnalysis(name='tutorial_1', passbands='Kepler', times=ph, fluxes=Kepler_flux)\n",
    "# ta = trans.TransitAnalysis(name='tutorial_1', passbands='Kepler', times=ph_cut, fluxes=Kepler_flux_cut)"
   ]
  },
  {
   "cell_type": "code",
   "execution_count": null,
   "metadata": {},
   "outputs": [],
   "source": [
    "ta.print_parameters(1)\n"
   ]
  },
  {
   "cell_type": "code",
   "execution_count": null,
   "metadata": {},
   "outputs": [],
   "source": [
    "ta.set_prior('p_1', 'NP', 5, 1e-5)\n",
    "ta.set_prior('k2_1', 'NP', 0.99, 1e-3)\n"
   ]
  },
  {
   "cell_type": "code",
   "execution_count": null,
   "metadata": {},
   "outputs": [],
   "source": [
    "ta.print_parameters(1)\n"
   ]
  },
  {
   "cell_type": "code",
   "execution_count": null,
   "metadata": {},
   "outputs": [],
   "source": [
    "ta.optimize_global(niter=500, npop=100)\n"
   ]
  },
  {
   "cell_type": "code",
   "execution_count": null,
   "metadata": {},
   "outputs": [],
   "source": [
    "ta.plot_light_curves(method='fit');"
   ]
  },
  {
   "cell_type": "code",
   "execution_count": null,
   "metadata": {},
   "outputs": [],
   "source": [
    "ta.sample_mcmc(niter=2000, thin=20, repeats=3, save=False)"
   ]
  },
  {
   "cell_type": "code",
   "execution_count": null,
   "metadata": {},
   "outputs": [],
   "source": [
    "ta.save()\n"
   ]
  },
  {
   "cell_type": "code",
   "execution_count": null,
   "metadata": {},
   "outputs": [],
   "source": [
    "df = ta.posterior_samples()"
   ]
  },
  {
   "cell_type": "code",
   "execution_count": null,
   "metadata": {},
   "outputs": [],
   "source": [
    "ta.plot_light_curves(method='posterior');"
   ]
  },
  {
   "cell_type": "code",
   "execution_count": null,
   "metadata": {},
   "outputs": [],
   "source": [
    "corner(df.posterior[['q1_Kepler', 'q2_Kepler']]);\n"
   ]
  },
  {
   "cell_type": "code",
   "execution_count": null,
   "metadata": {},
   "outputs": [],
   "source": [
    "df"
   ]
  }
 ],
 "metadata": {
  "kernelspec": {
   "display_name": "py310",
   "language": "python",
   "name": "python3"
  },
  "language_info": {
   "codemirror_mode": {
    "name": "ipython",
    "version": 3
   },
   "file_extension": ".py",
   "mimetype": "text/x-python",
   "name": "python",
   "nbconvert_exporter": "python",
   "pygments_lexer": "ipython3",
   "version": "3.10.13"
  }
 },
 "nbformat": 4,
 "nbformat_minor": 2
}
